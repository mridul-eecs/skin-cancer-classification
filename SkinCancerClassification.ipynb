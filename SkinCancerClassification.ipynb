{
  "nbformat": 4,
  "nbformat_minor": 0,
  "metadata": {
    "colab": {
      "name": "SkinCancerClassification.ipynb",
      "provenance": [],
      "collapsed_sections": [],
      "toc_visible": true,
      "machine_shape": "hm",
      "include_colab_link": true
    },
    "kernelspec": {
      "name": "python3",
      "display_name": "Python 3"
    },
    "accelerator": "GPU",
    "widgets": {
      "application/vnd.jupyter.widget-state+json": {
        "0f3d0d8c3ee547fab17c744a3da891be": {
          "model_module": "@jupyter-widgets/controls",
          "model_name": "HBoxModel",
          "state": {
            "_view_name": "HBoxView",
            "_dom_classes": [],
            "_model_name": "HBoxModel",
            "_view_module": "@jupyter-widgets/controls",
            "_model_module_version": "1.5.0",
            "_view_count": null,
            "_view_module_version": "1.5.0",
            "box_style": "",
            "layout": "IPY_MODEL_5fb793564788463eb9a9765b48fd934c",
            "_model_module": "@jupyter-widgets/controls",
            "children": [
              "IPY_MODEL_9db72734ae1b418d824988b81b8c1120",
              "IPY_MODEL_7cbc179f43e94b729e41d730c313b593"
            ]
          }
        },
        "5fb793564788463eb9a9765b48fd934c": {
          "model_module": "@jupyter-widgets/base",
          "model_name": "LayoutModel",
          "state": {
            "_view_name": "LayoutView",
            "grid_template_rows": null,
            "right": null,
            "justify_content": null,
            "_view_module": "@jupyter-widgets/base",
            "overflow": null,
            "_model_module_version": "1.2.0",
            "_view_count": null,
            "flex_flow": null,
            "width": null,
            "min_width": null,
            "border": null,
            "align_items": null,
            "bottom": null,
            "_model_module": "@jupyter-widgets/base",
            "top": null,
            "grid_column": null,
            "overflow_y": null,
            "overflow_x": null,
            "grid_auto_flow": null,
            "grid_area": null,
            "grid_template_columns": null,
            "flex": null,
            "_model_name": "LayoutModel",
            "justify_items": null,
            "grid_row": null,
            "max_height": null,
            "align_content": null,
            "visibility": null,
            "align_self": null,
            "height": null,
            "min_height": null,
            "padding": null,
            "grid_auto_rows": null,
            "grid_gap": null,
            "max_width": null,
            "order": null,
            "_view_module_version": "1.2.0",
            "grid_template_areas": null,
            "object_position": null,
            "object_fit": null,
            "grid_auto_columns": null,
            "margin": null,
            "display": null,
            "left": null
          }
        },
        "9db72734ae1b418d824988b81b8c1120": {
          "model_module": "@jupyter-widgets/controls",
          "model_name": "IntProgressModel",
          "state": {
            "_view_name": "ProgressView",
            "style": "IPY_MODEL_079be2510e2b468e8ca595fbd759665b",
            "_dom_classes": [],
            "description": "",
            "_model_name": "IntProgressModel",
            "bar_style": "success",
            "max": 1113,
            "_view_module": "@jupyter-widgets/controls",
            "_model_module_version": "1.5.0",
            "value": 1113,
            "_view_count": null,
            "_view_module_version": "1.5.0",
            "orientation": "horizontal",
            "min": 0,
            "description_tooltip": null,
            "_model_module": "@jupyter-widgets/controls",
            "layout": "IPY_MODEL_efb43040e08a4e14985d84d31c3fd401"
          }
        },
        "7cbc179f43e94b729e41d730c313b593": {
          "model_module": "@jupyter-widgets/controls",
          "model_name": "HTMLModel",
          "state": {
            "_view_name": "HTMLView",
            "style": "IPY_MODEL_4fef7f5b6b3f4443b4fa25e493e0a0c6",
            "_dom_classes": [],
            "description": "",
            "_model_name": "HTMLModel",
            "placeholder": "​",
            "_view_module": "@jupyter-widgets/controls",
            "_model_module_version": "1.5.0",
            "value": "100% 1113/1113 [06:28&lt;00:00,  2.86it/s]",
            "_view_count": null,
            "_view_module_version": "1.5.0",
            "description_tooltip": null,
            "_model_module": "@jupyter-widgets/controls",
            "layout": "IPY_MODEL_1e25cd3e88e24a949a2c95307266d1a8"
          }
        },
        "079be2510e2b468e8ca595fbd759665b": {
          "model_module": "@jupyter-widgets/controls",
          "model_name": "ProgressStyleModel",
          "state": {
            "_view_name": "StyleView",
            "_model_name": "ProgressStyleModel",
            "description_width": "",
            "_view_module": "@jupyter-widgets/base",
            "_model_module_version": "1.5.0",
            "_view_count": null,
            "_view_module_version": "1.2.0",
            "bar_color": null,
            "_model_module": "@jupyter-widgets/controls"
          }
        },
        "efb43040e08a4e14985d84d31c3fd401": {
          "model_module": "@jupyter-widgets/base",
          "model_name": "LayoutModel",
          "state": {
            "_view_name": "LayoutView",
            "grid_template_rows": null,
            "right": null,
            "justify_content": null,
            "_view_module": "@jupyter-widgets/base",
            "overflow": null,
            "_model_module_version": "1.2.0",
            "_view_count": null,
            "flex_flow": null,
            "width": null,
            "min_width": null,
            "border": null,
            "align_items": null,
            "bottom": null,
            "_model_module": "@jupyter-widgets/base",
            "top": null,
            "grid_column": null,
            "overflow_y": null,
            "overflow_x": null,
            "grid_auto_flow": null,
            "grid_area": null,
            "grid_template_columns": null,
            "flex": null,
            "_model_name": "LayoutModel",
            "justify_items": null,
            "grid_row": null,
            "max_height": null,
            "align_content": null,
            "visibility": null,
            "align_self": null,
            "height": null,
            "min_height": null,
            "padding": null,
            "grid_auto_rows": null,
            "grid_gap": null,
            "max_width": null,
            "order": null,
            "_view_module_version": "1.2.0",
            "grid_template_areas": null,
            "object_position": null,
            "object_fit": null,
            "grid_auto_columns": null,
            "margin": null,
            "display": null,
            "left": null
          }
        },
        "4fef7f5b6b3f4443b4fa25e493e0a0c6": {
          "model_module": "@jupyter-widgets/controls",
          "model_name": "DescriptionStyleModel",
          "state": {
            "_view_name": "StyleView",
            "_model_name": "DescriptionStyleModel",
            "description_width": "",
            "_view_module": "@jupyter-widgets/base",
            "_model_module_version": "1.5.0",
            "_view_count": null,
            "_view_module_version": "1.2.0",
            "_model_module": "@jupyter-widgets/controls"
          }
        },
        "1e25cd3e88e24a949a2c95307266d1a8": {
          "model_module": "@jupyter-widgets/base",
          "model_name": "LayoutModel",
          "state": {
            "_view_name": "LayoutView",
            "grid_template_rows": null,
            "right": null,
            "justify_content": null,
            "_view_module": "@jupyter-widgets/base",
            "overflow": null,
            "_model_module_version": "1.2.0",
            "_view_count": null,
            "flex_flow": null,
            "width": null,
            "min_width": null,
            "border": null,
            "align_items": null,
            "bottom": null,
            "_model_module": "@jupyter-widgets/base",
            "top": null,
            "grid_column": null,
            "overflow_y": null,
            "overflow_x": null,
            "grid_auto_flow": null,
            "grid_area": null,
            "grid_template_columns": null,
            "flex": null,
            "_model_name": "LayoutModel",
            "justify_items": null,
            "grid_row": null,
            "max_height": null,
            "align_content": null,
            "visibility": null,
            "align_self": null,
            "height": null,
            "min_height": null,
            "padding": null,
            "grid_auto_rows": null,
            "grid_gap": null,
            "max_width": null,
            "order": null,
            "_view_module_version": "1.2.0",
            "grid_template_areas": null,
            "object_position": null,
            "object_fit": null,
            "grid_auto_columns": null,
            "margin": null,
            "display": null,
            "left": null
          }
        },
        "d9956050abbf464dad4880d11d21f200": {
          "model_module": "@jupyter-widgets/controls",
          "model_name": "HBoxModel",
          "state": {
            "_view_name": "HBoxView",
            "_dom_classes": [],
            "_model_name": "HBoxModel",
            "_view_module": "@jupyter-widgets/controls",
            "_model_module_version": "1.5.0",
            "_view_count": null,
            "_view_module_version": "1.5.0",
            "box_style": "",
            "layout": "IPY_MODEL_a22c958799b94f648af372743c429562",
            "_model_module": "@jupyter-widgets/controls",
            "children": [
              "IPY_MODEL_564614f7ceca494b91b3ddb1252b11de",
              "IPY_MODEL_a7f8ae4cff2d46309b4fde7e17ff4af7"
            ]
          }
        },
        "a22c958799b94f648af372743c429562": {
          "model_module": "@jupyter-widgets/base",
          "model_name": "LayoutModel",
          "state": {
            "_view_name": "LayoutView",
            "grid_template_rows": null,
            "right": null,
            "justify_content": null,
            "_view_module": "@jupyter-widgets/base",
            "overflow": null,
            "_model_module_version": "1.2.0",
            "_view_count": null,
            "flex_flow": null,
            "width": null,
            "min_width": null,
            "border": null,
            "align_items": null,
            "bottom": null,
            "_model_module": "@jupyter-widgets/base",
            "top": null,
            "grid_column": null,
            "overflow_y": null,
            "overflow_x": null,
            "grid_auto_flow": null,
            "grid_area": null,
            "grid_template_columns": null,
            "flex": null,
            "_model_name": "LayoutModel",
            "justify_items": null,
            "grid_row": null,
            "max_height": null,
            "align_content": null,
            "visibility": null,
            "align_self": null,
            "height": null,
            "min_height": null,
            "padding": null,
            "grid_auto_rows": null,
            "grid_gap": null,
            "max_width": null,
            "order": null,
            "_view_module_version": "1.2.0",
            "grid_template_areas": null,
            "object_position": null,
            "object_fit": null,
            "grid_auto_columns": null,
            "margin": null,
            "display": null,
            "left": null
          }
        },
        "564614f7ceca494b91b3ddb1252b11de": {
          "model_module": "@jupyter-widgets/controls",
          "model_name": "IntProgressModel",
          "state": {
            "_view_name": "ProgressView",
            "style": "IPY_MODEL_4022654cc91e455b9bd044d1efc0f3a3",
            "_dom_classes": [],
            "description": "",
            "_model_name": "IntProgressModel",
            "bar_style": "success",
            "max": 1099,
            "_view_module": "@jupyter-widgets/controls",
            "_model_module_version": "1.5.0",
            "value": 1099,
            "_view_count": null,
            "_view_module_version": "1.5.0",
            "orientation": "horizontal",
            "min": 0,
            "description_tooltip": null,
            "_model_module": "@jupyter-widgets/controls",
            "layout": "IPY_MODEL_7956ac11f27b4d2eb6f6309dcf120b9f"
          }
        },
        "a7f8ae4cff2d46309b4fde7e17ff4af7": {
          "model_module": "@jupyter-widgets/controls",
          "model_name": "HTMLModel",
          "state": {
            "_view_name": "HTMLView",
            "style": "IPY_MODEL_51f94b144b2a4d739b7a5eee66b82133",
            "_dom_classes": [],
            "description": "",
            "_model_name": "HTMLModel",
            "placeholder": "​",
            "_view_module": "@jupyter-widgets/controls",
            "_model_module_version": "1.5.0",
            "value": "100% 1099/1099 [06:35&lt;00:00,  2.78it/s]",
            "_view_count": null,
            "_view_module_version": "1.5.0",
            "description_tooltip": null,
            "_model_module": "@jupyter-widgets/controls",
            "layout": "IPY_MODEL_3129d7bfbda1487189338ac063be8697"
          }
        },
        "4022654cc91e455b9bd044d1efc0f3a3": {
          "model_module": "@jupyter-widgets/controls",
          "model_name": "ProgressStyleModel",
          "state": {
            "_view_name": "StyleView",
            "_model_name": "ProgressStyleModel",
            "description_width": "",
            "_view_module": "@jupyter-widgets/base",
            "_model_module_version": "1.5.0",
            "_view_count": null,
            "_view_module_version": "1.2.0",
            "bar_color": null,
            "_model_module": "@jupyter-widgets/controls"
          }
        },
        "7956ac11f27b4d2eb6f6309dcf120b9f": {
          "model_module": "@jupyter-widgets/base",
          "model_name": "LayoutModel",
          "state": {
            "_view_name": "LayoutView",
            "grid_template_rows": null,
            "right": null,
            "justify_content": null,
            "_view_module": "@jupyter-widgets/base",
            "overflow": null,
            "_model_module_version": "1.2.0",
            "_view_count": null,
            "flex_flow": null,
            "width": null,
            "min_width": null,
            "border": null,
            "align_items": null,
            "bottom": null,
            "_model_module": "@jupyter-widgets/base",
            "top": null,
            "grid_column": null,
            "overflow_y": null,
            "overflow_x": null,
            "grid_auto_flow": null,
            "grid_area": null,
            "grid_template_columns": null,
            "flex": null,
            "_model_name": "LayoutModel",
            "justify_items": null,
            "grid_row": null,
            "max_height": null,
            "align_content": null,
            "visibility": null,
            "align_self": null,
            "height": null,
            "min_height": null,
            "padding": null,
            "grid_auto_rows": null,
            "grid_gap": null,
            "max_width": null,
            "order": null,
            "_view_module_version": "1.2.0",
            "grid_template_areas": null,
            "object_position": null,
            "object_fit": null,
            "grid_auto_columns": null,
            "margin": null,
            "display": null,
            "left": null
          }
        },
        "51f94b144b2a4d739b7a5eee66b82133": {
          "model_module": "@jupyter-widgets/controls",
          "model_name": "DescriptionStyleModel",
          "state": {
            "_view_name": "StyleView",
            "_model_name": "DescriptionStyleModel",
            "description_width": "",
            "_view_module": "@jupyter-widgets/base",
            "_model_module_version": "1.5.0",
            "_view_count": null,
            "_view_module_version": "1.2.0",
            "_model_module": "@jupyter-widgets/controls"
          }
        },
        "3129d7bfbda1487189338ac063be8697": {
          "model_module": "@jupyter-widgets/base",
          "model_name": "LayoutModel",
          "state": {
            "_view_name": "LayoutView",
            "grid_template_rows": null,
            "right": null,
            "justify_content": null,
            "_view_module": "@jupyter-widgets/base",
            "overflow": null,
            "_model_module_version": "1.2.0",
            "_view_count": null,
            "flex_flow": null,
            "width": null,
            "min_width": null,
            "border": null,
            "align_items": null,
            "bottom": null,
            "_model_module": "@jupyter-widgets/base",
            "top": null,
            "grid_column": null,
            "overflow_y": null,
            "overflow_x": null,
            "grid_auto_flow": null,
            "grid_area": null,
            "grid_template_columns": null,
            "flex": null,
            "_model_name": "LayoutModel",
            "justify_items": null,
            "grid_row": null,
            "max_height": null,
            "align_content": null,
            "visibility": null,
            "align_self": null,
            "height": null,
            "min_height": null,
            "padding": null,
            "grid_auto_rows": null,
            "grid_gap": null,
            "max_width": null,
            "order": null,
            "_view_module_version": "1.2.0",
            "grid_template_areas": null,
            "object_position": null,
            "object_fit": null,
            "grid_auto_columns": null,
            "margin": null,
            "display": null,
            "left": null
          }
        },
        "97b7fadaf8d842be9035c890f4a6312f": {
          "model_module": "@jupyter-widgets/controls",
          "model_name": "HBoxModel",
          "state": {
            "_view_name": "HBoxView",
            "_dom_classes": [],
            "_model_name": "HBoxModel",
            "_view_module": "@jupyter-widgets/controls",
            "_model_module_version": "1.5.0",
            "_view_count": null,
            "_view_module_version": "1.5.0",
            "box_style": "",
            "layout": "IPY_MODEL_3ab8e34fe4f24d3ebef77cd416babac2",
            "_model_module": "@jupyter-widgets/controls",
            "children": [
              "IPY_MODEL_63953516fb2442dea41f9f66c208d343",
              "IPY_MODEL_db51228570ff475b9993a492f339f48c"
            ]
          }
        },
        "3ab8e34fe4f24d3ebef77cd416babac2": {
          "model_module": "@jupyter-widgets/base",
          "model_name": "LayoutModel",
          "state": {
            "_view_name": "LayoutView",
            "grid_template_rows": null,
            "right": null,
            "justify_content": null,
            "_view_module": "@jupyter-widgets/base",
            "overflow": null,
            "_model_module_version": "1.2.0",
            "_view_count": null,
            "flex_flow": null,
            "width": null,
            "min_width": null,
            "border": null,
            "align_items": null,
            "bottom": null,
            "_model_module": "@jupyter-widgets/base",
            "top": null,
            "grid_column": null,
            "overflow_y": null,
            "overflow_x": null,
            "grid_auto_flow": null,
            "grid_area": null,
            "grid_template_columns": null,
            "flex": null,
            "_model_name": "LayoutModel",
            "justify_items": null,
            "grid_row": null,
            "max_height": null,
            "align_content": null,
            "visibility": null,
            "align_self": null,
            "height": null,
            "min_height": null,
            "padding": null,
            "grid_auto_rows": null,
            "grid_gap": null,
            "max_width": null,
            "order": null,
            "_view_module_version": "1.2.0",
            "grid_template_areas": null,
            "object_position": null,
            "object_fit": null,
            "grid_auto_columns": null,
            "margin": null,
            "display": null,
            "left": null
          }
        },
        "63953516fb2442dea41f9f66c208d343": {
          "model_module": "@jupyter-widgets/controls",
          "model_name": "IntProgressModel",
          "state": {
            "_view_name": "ProgressView",
            "style": "IPY_MODEL_6131a0282adc43a2b232642ad0608e2f",
            "_dom_classes": [],
            "description": "",
            "_model_name": "IntProgressModel",
            "bar_style": "success",
            "max": 514,
            "_view_module": "@jupyter-widgets/controls",
            "_model_module_version": "1.5.0",
            "value": 514,
            "_view_count": null,
            "_view_module_version": "1.5.0",
            "orientation": "horizontal",
            "min": 0,
            "description_tooltip": null,
            "_model_module": "@jupyter-widgets/controls",
            "layout": "IPY_MODEL_6636534f12f54e1b865dc31bbcfc9dab"
          }
        },
        "db51228570ff475b9993a492f339f48c": {
          "model_module": "@jupyter-widgets/controls",
          "model_name": "HTMLModel",
          "state": {
            "_view_name": "HTMLView",
            "style": "IPY_MODEL_c9413dcac2914f86989de7fa79a36edd",
            "_dom_classes": [],
            "description": "",
            "_model_name": "HTMLModel",
            "placeholder": "​",
            "_view_module": "@jupyter-widgets/controls",
            "_model_module_version": "1.5.0",
            "value": "100% 514/514 [07:09&lt;00:00,  1.20it/s]",
            "_view_count": null,
            "_view_module_version": "1.5.0",
            "description_tooltip": null,
            "_model_module": "@jupyter-widgets/controls",
            "layout": "IPY_MODEL_eb138d68d35548a0ad5a5961cd855db7"
          }
        },
        "6131a0282adc43a2b232642ad0608e2f": {
          "model_module": "@jupyter-widgets/controls",
          "model_name": "ProgressStyleModel",
          "state": {
            "_view_name": "StyleView",
            "_model_name": "ProgressStyleModel",
            "description_width": "",
            "_view_module": "@jupyter-widgets/base",
            "_model_module_version": "1.5.0",
            "_view_count": null,
            "_view_module_version": "1.2.0",
            "bar_color": null,
            "_model_module": "@jupyter-widgets/controls"
          }
        },
        "6636534f12f54e1b865dc31bbcfc9dab": {
          "model_module": "@jupyter-widgets/base",
          "model_name": "LayoutModel",
          "state": {
            "_view_name": "LayoutView",
            "grid_template_rows": null,
            "right": null,
            "justify_content": null,
            "_view_module": "@jupyter-widgets/base",
            "overflow": null,
            "_model_module_version": "1.2.0",
            "_view_count": null,
            "flex_flow": null,
            "width": null,
            "min_width": null,
            "border": null,
            "align_items": null,
            "bottom": null,
            "_model_module": "@jupyter-widgets/base",
            "top": null,
            "grid_column": null,
            "overflow_y": null,
            "overflow_x": null,
            "grid_auto_flow": null,
            "grid_area": null,
            "grid_template_columns": null,
            "flex": null,
            "_model_name": "LayoutModel",
            "justify_items": null,
            "grid_row": null,
            "max_height": null,
            "align_content": null,
            "visibility": null,
            "align_self": null,
            "height": null,
            "min_height": null,
            "padding": null,
            "grid_auto_rows": null,
            "grid_gap": null,
            "max_width": null,
            "order": null,
            "_view_module_version": "1.2.0",
            "grid_template_areas": null,
            "object_position": null,
            "object_fit": null,
            "grid_auto_columns": null,
            "margin": null,
            "display": null,
            "left": null
          }
        },
        "c9413dcac2914f86989de7fa79a36edd": {
          "model_module": "@jupyter-widgets/controls",
          "model_name": "DescriptionStyleModel",
          "state": {
            "_view_name": "StyleView",
            "_model_name": "DescriptionStyleModel",
            "description_width": "",
            "_view_module": "@jupyter-widgets/base",
            "_model_module_version": "1.5.0",
            "_view_count": null,
            "_view_module_version": "1.2.0",
            "_model_module": "@jupyter-widgets/controls"
          }
        },
        "eb138d68d35548a0ad5a5961cd855db7": {
          "model_module": "@jupyter-widgets/base",
          "model_name": "LayoutModel",
          "state": {
            "_view_name": "LayoutView",
            "grid_template_rows": null,
            "right": null,
            "justify_content": null,
            "_view_module": "@jupyter-widgets/base",
            "overflow": null,
            "_model_module_version": "1.2.0",
            "_view_count": null,
            "flex_flow": null,
            "width": null,
            "min_width": null,
            "border": null,
            "align_items": null,
            "bottom": null,
            "_model_module": "@jupyter-widgets/base",
            "top": null,
            "grid_column": null,
            "overflow_y": null,
            "overflow_x": null,
            "grid_auto_flow": null,
            "grid_area": null,
            "grid_template_columns": null,
            "flex": null,
            "_model_name": "LayoutModel",
            "justify_items": null,
            "grid_row": null,
            "max_height": null,
            "align_content": null,
            "visibility": null,
            "align_self": null,
            "height": null,
            "min_height": null,
            "padding": null,
            "grid_auto_rows": null,
            "grid_gap": null,
            "max_width": null,
            "order": null,
            "_view_module_version": "1.2.0",
            "grid_template_areas": null,
            "object_position": null,
            "object_fit": null,
            "grid_auto_columns": null,
            "margin": null,
            "display": null,
            "left": null
          }
        },
        "5f638bbf47b1476b8fa6573d0835fecc": {
          "model_module": "@jupyter-widgets/controls",
          "model_name": "HBoxModel",
          "state": {
            "_view_name": "HBoxView",
            "_dom_classes": [],
            "_model_name": "HBoxModel",
            "_view_module": "@jupyter-widgets/controls",
            "_model_module_version": "1.5.0",
            "_view_count": null,
            "_view_module_version": "1.5.0",
            "box_style": "",
            "layout": "IPY_MODEL_bfdaca429c3443fb96dee3df436e7681",
            "_model_module": "@jupyter-widgets/controls",
            "children": [
              "IPY_MODEL_1f074d4adc51459d8aae6873afa93582",
              "IPY_MODEL_2459f06493164607afc6a630c2a23c30"
            ]
          }
        },
        "bfdaca429c3443fb96dee3df436e7681": {
          "model_module": "@jupyter-widgets/base",
          "model_name": "LayoutModel",
          "state": {
            "_view_name": "LayoutView",
            "grid_template_rows": null,
            "right": null,
            "justify_content": null,
            "_view_module": "@jupyter-widgets/base",
            "overflow": null,
            "_model_module_version": "1.2.0",
            "_view_count": null,
            "flex_flow": null,
            "width": null,
            "min_width": null,
            "border": null,
            "align_items": null,
            "bottom": null,
            "_model_module": "@jupyter-widgets/base",
            "top": null,
            "grid_column": null,
            "overflow_y": null,
            "overflow_x": null,
            "grid_auto_flow": null,
            "grid_area": null,
            "grid_template_columns": null,
            "flex": null,
            "_model_name": "LayoutModel",
            "justify_items": null,
            "grid_row": null,
            "max_height": null,
            "align_content": null,
            "visibility": null,
            "align_self": null,
            "height": null,
            "min_height": null,
            "padding": null,
            "grid_auto_rows": null,
            "grid_gap": null,
            "max_width": null,
            "order": null,
            "_view_module_version": "1.2.0",
            "grid_template_areas": null,
            "object_position": null,
            "object_fit": null,
            "grid_auto_columns": null,
            "margin": null,
            "display": null,
            "left": null
          }
        },
        "1f074d4adc51459d8aae6873afa93582": {
          "model_module": "@jupyter-widgets/controls",
          "model_name": "IntProgressModel",
          "state": {
            "_view_name": "ProgressView",
            "style": "IPY_MODEL_a5fdcc54458246ddb896a5ed2e980591",
            "_dom_classes": [],
            "description": "",
            "_model_name": "IntProgressModel",
            "bar_style": "success",
            "max": 327,
            "_view_module": "@jupyter-widgets/controls",
            "_model_module_version": "1.5.0",
            "value": 327,
            "_view_count": null,
            "_view_module_version": "1.5.0",
            "orientation": "horizontal",
            "min": 0,
            "description_tooltip": null,
            "_model_module": "@jupyter-widgets/controls",
            "layout": "IPY_MODEL_471f9c94b887409eaf8f071c4be74d2a"
          }
        },
        "2459f06493164607afc6a630c2a23c30": {
          "model_module": "@jupyter-widgets/controls",
          "model_name": "HTMLModel",
          "state": {
            "_view_name": "HTMLView",
            "style": "IPY_MODEL_89afe66b25754c2b8477648d99b6566a",
            "_dom_classes": [],
            "description": "",
            "_model_name": "HTMLModel",
            "placeholder": "​",
            "_view_module": "@jupyter-widgets/controls",
            "_model_module_version": "1.5.0",
            "value": "100% 327/327 [07:26&lt;00:00,  1.36s/it]",
            "_view_count": null,
            "_view_module_version": "1.5.0",
            "description_tooltip": null,
            "_model_module": "@jupyter-widgets/controls",
            "layout": "IPY_MODEL_87a3cc7293db43cab49b556b7de5d30a"
          }
        },
        "a5fdcc54458246ddb896a5ed2e980591": {
          "model_module": "@jupyter-widgets/controls",
          "model_name": "ProgressStyleModel",
          "state": {
            "_view_name": "StyleView",
            "_model_name": "ProgressStyleModel",
            "description_width": "",
            "_view_module": "@jupyter-widgets/base",
            "_model_module_version": "1.5.0",
            "_view_count": null,
            "_view_module_version": "1.2.0",
            "bar_color": null,
            "_model_module": "@jupyter-widgets/controls"
          }
        },
        "471f9c94b887409eaf8f071c4be74d2a": {
          "model_module": "@jupyter-widgets/base",
          "model_name": "LayoutModel",
          "state": {
            "_view_name": "LayoutView",
            "grid_template_rows": null,
            "right": null,
            "justify_content": null,
            "_view_module": "@jupyter-widgets/base",
            "overflow": null,
            "_model_module_version": "1.2.0",
            "_view_count": null,
            "flex_flow": null,
            "width": null,
            "min_width": null,
            "border": null,
            "align_items": null,
            "bottom": null,
            "_model_module": "@jupyter-widgets/base",
            "top": null,
            "grid_column": null,
            "overflow_y": null,
            "overflow_x": null,
            "grid_auto_flow": null,
            "grid_area": null,
            "grid_template_columns": null,
            "flex": null,
            "_model_name": "LayoutModel",
            "justify_items": null,
            "grid_row": null,
            "max_height": null,
            "align_content": null,
            "visibility": null,
            "align_self": null,
            "height": null,
            "min_height": null,
            "padding": null,
            "grid_auto_rows": null,
            "grid_gap": null,
            "max_width": null,
            "order": null,
            "_view_module_version": "1.2.0",
            "grid_template_areas": null,
            "object_position": null,
            "object_fit": null,
            "grid_auto_columns": null,
            "margin": null,
            "display": null,
            "left": null
          }
        },
        "89afe66b25754c2b8477648d99b6566a": {
          "model_module": "@jupyter-widgets/controls",
          "model_name": "DescriptionStyleModel",
          "state": {
            "_view_name": "StyleView",
            "_model_name": "DescriptionStyleModel",
            "description_width": "",
            "_view_module": "@jupyter-widgets/base",
            "_model_module_version": "1.5.0",
            "_view_count": null,
            "_view_module_version": "1.2.0",
            "_model_module": "@jupyter-widgets/controls"
          }
        },
        "87a3cc7293db43cab49b556b7de5d30a": {
          "model_module": "@jupyter-widgets/base",
          "model_name": "LayoutModel",
          "state": {
            "_view_name": "LayoutView",
            "grid_template_rows": null,
            "right": null,
            "justify_content": null,
            "_view_module": "@jupyter-widgets/base",
            "overflow": null,
            "_model_module_version": "1.2.0",
            "_view_count": null,
            "flex_flow": null,
            "width": null,
            "min_width": null,
            "border": null,
            "align_items": null,
            "bottom": null,
            "_model_module": "@jupyter-widgets/base",
            "top": null,
            "grid_column": null,
            "overflow_y": null,
            "overflow_x": null,
            "grid_auto_flow": null,
            "grid_area": null,
            "grid_template_columns": null,
            "flex": null,
            "_model_name": "LayoutModel",
            "justify_items": null,
            "grid_row": null,
            "max_height": null,
            "align_content": null,
            "visibility": null,
            "align_self": null,
            "height": null,
            "min_height": null,
            "padding": null,
            "grid_auto_rows": null,
            "grid_gap": null,
            "max_width": null,
            "order": null,
            "_view_module_version": "1.2.0",
            "grid_template_areas": null,
            "object_position": null,
            "object_fit": null,
            "grid_auto_columns": null,
            "margin": null,
            "display": null,
            "left": null
          }
        },
        "b9276389ed73472eb52ff2caf0c03d92": {
          "model_module": "@jupyter-widgets/controls",
          "model_name": "HBoxModel",
          "state": {
            "_view_name": "HBoxView",
            "_dom_classes": [],
            "_model_name": "HBoxModel",
            "_view_module": "@jupyter-widgets/controls",
            "_model_module_version": "1.5.0",
            "_view_count": null,
            "_view_module_version": "1.5.0",
            "box_style": "",
            "layout": "IPY_MODEL_a8f0a55efca54d708ca1e1db097ba899",
            "_model_module": "@jupyter-widgets/controls",
            "children": [
              "IPY_MODEL_d0f223efbe5d4209bc715d7c910273a3",
              "IPY_MODEL_cc202a029a3f4e93948b8863f56effbe"
            ]
          }
        },
        "a8f0a55efca54d708ca1e1db097ba899": {
          "model_module": "@jupyter-widgets/base",
          "model_name": "LayoutModel",
          "state": {
            "_view_name": "LayoutView",
            "grid_template_rows": null,
            "right": null,
            "justify_content": null,
            "_view_module": "@jupyter-widgets/base",
            "overflow": null,
            "_model_module_version": "1.2.0",
            "_view_count": null,
            "flex_flow": null,
            "width": null,
            "min_width": null,
            "border": null,
            "align_items": null,
            "bottom": null,
            "_model_module": "@jupyter-widgets/base",
            "top": null,
            "grid_column": null,
            "overflow_y": null,
            "overflow_x": null,
            "grid_auto_flow": null,
            "grid_area": null,
            "grid_template_columns": null,
            "flex": null,
            "_model_name": "LayoutModel",
            "justify_items": null,
            "grid_row": null,
            "max_height": null,
            "align_content": null,
            "visibility": null,
            "align_self": null,
            "height": null,
            "min_height": null,
            "padding": null,
            "grid_auto_rows": null,
            "grid_gap": null,
            "max_width": null,
            "order": null,
            "_view_module_version": "1.2.0",
            "grid_template_areas": null,
            "object_position": null,
            "object_fit": null,
            "grid_auto_columns": null,
            "margin": null,
            "display": null,
            "left": null
          }
        },
        "d0f223efbe5d4209bc715d7c910273a3": {
          "model_module": "@jupyter-widgets/controls",
          "model_name": "IntProgressModel",
          "state": {
            "_view_name": "ProgressView",
            "style": "IPY_MODEL_653e851bcae24caf99578cd625f5a531",
            "_dom_classes": [],
            "description": "",
            "_model_name": "IntProgressModel",
            "bar_style": "success",
            "max": 142,
            "_view_module": "@jupyter-widgets/controls",
            "_model_module_version": "1.5.0",
            "value": 142,
            "_view_count": null,
            "_view_module_version": "1.5.0",
            "orientation": "horizontal",
            "min": 0,
            "description_tooltip": null,
            "_model_module": "@jupyter-widgets/controls",
            "layout": "IPY_MODEL_3f1030c875c845e4ad95ec177e1b0767"
          }
        },
        "cc202a029a3f4e93948b8863f56effbe": {
          "model_module": "@jupyter-widgets/controls",
          "model_name": "HTMLModel",
          "state": {
            "_view_name": "HTMLView",
            "style": "IPY_MODEL_e8d1eb8072434707a77f6c41a4bf89e1",
            "_dom_classes": [],
            "description": "",
            "_model_name": "HTMLModel",
            "placeholder": "​",
            "_view_module": "@jupyter-widgets/controls",
            "_model_module_version": "1.5.0",
            "value": "100% 142/142 [07:45&lt;00:00,  3.28s/it]",
            "_view_count": null,
            "_view_module_version": "1.5.0",
            "description_tooltip": null,
            "_model_module": "@jupyter-widgets/controls",
            "layout": "IPY_MODEL_050f39b2e89e4516ac1e7ff67d660161"
          }
        },
        "653e851bcae24caf99578cd625f5a531": {
          "model_module": "@jupyter-widgets/controls",
          "model_name": "ProgressStyleModel",
          "state": {
            "_view_name": "StyleView",
            "_model_name": "ProgressStyleModel",
            "description_width": "",
            "_view_module": "@jupyter-widgets/base",
            "_model_module_version": "1.5.0",
            "_view_count": null,
            "_view_module_version": "1.2.0",
            "bar_color": null,
            "_model_module": "@jupyter-widgets/controls"
          }
        },
        "3f1030c875c845e4ad95ec177e1b0767": {
          "model_module": "@jupyter-widgets/base",
          "model_name": "LayoutModel",
          "state": {
            "_view_name": "LayoutView",
            "grid_template_rows": null,
            "right": null,
            "justify_content": null,
            "_view_module": "@jupyter-widgets/base",
            "overflow": null,
            "_model_module_version": "1.2.0",
            "_view_count": null,
            "flex_flow": null,
            "width": null,
            "min_width": null,
            "border": null,
            "align_items": null,
            "bottom": null,
            "_model_module": "@jupyter-widgets/base",
            "top": null,
            "grid_column": null,
            "overflow_y": null,
            "overflow_x": null,
            "grid_auto_flow": null,
            "grid_area": null,
            "grid_template_columns": null,
            "flex": null,
            "_model_name": "LayoutModel",
            "justify_items": null,
            "grid_row": null,
            "max_height": null,
            "align_content": null,
            "visibility": null,
            "align_self": null,
            "height": null,
            "min_height": null,
            "padding": null,
            "grid_auto_rows": null,
            "grid_gap": null,
            "max_width": null,
            "order": null,
            "_view_module_version": "1.2.0",
            "grid_template_areas": null,
            "object_position": null,
            "object_fit": null,
            "grid_auto_columns": null,
            "margin": null,
            "display": null,
            "left": null
          }
        },
        "e8d1eb8072434707a77f6c41a4bf89e1": {
          "model_module": "@jupyter-widgets/controls",
          "model_name": "DescriptionStyleModel",
          "state": {
            "_view_name": "StyleView",
            "_model_name": "DescriptionStyleModel",
            "description_width": "",
            "_view_module": "@jupyter-widgets/base",
            "_model_module_version": "1.5.0",
            "_view_count": null,
            "_view_module_version": "1.2.0",
            "_model_module": "@jupyter-widgets/controls"
          }
        },
        "050f39b2e89e4516ac1e7ff67d660161": {
          "model_module": "@jupyter-widgets/base",
          "model_name": "LayoutModel",
          "state": {
            "_view_name": "LayoutView",
            "grid_template_rows": null,
            "right": null,
            "justify_content": null,
            "_view_module": "@jupyter-widgets/base",
            "overflow": null,
            "_model_module_version": "1.2.0",
            "_view_count": null,
            "flex_flow": null,
            "width": null,
            "min_width": null,
            "border": null,
            "align_items": null,
            "bottom": null,
            "_model_module": "@jupyter-widgets/base",
            "top": null,
            "grid_column": null,
            "overflow_y": null,
            "overflow_x": null,
            "grid_auto_flow": null,
            "grid_area": null,
            "grid_template_columns": null,
            "flex": null,
            "_model_name": "LayoutModel",
            "justify_items": null,
            "grid_row": null,
            "max_height": null,
            "align_content": null,
            "visibility": null,
            "align_self": null,
            "height": null,
            "min_height": null,
            "padding": null,
            "grid_auto_rows": null,
            "grid_gap": null,
            "max_width": null,
            "order": null,
            "_view_module_version": "1.2.0",
            "grid_template_areas": null,
            "object_position": null,
            "object_fit": null,
            "grid_auto_columns": null,
            "margin": null,
            "display": null,
            "left": null
          }
        },
        "bd3c2646466b4d11ab6b7d5e64778e36": {
          "model_module": "@jupyter-widgets/controls",
          "model_name": "HBoxModel",
          "state": {
            "_view_name": "HBoxView",
            "_dom_classes": [],
            "_model_name": "HBoxModel",
            "_view_module": "@jupyter-widgets/controls",
            "_model_module_version": "1.5.0",
            "_view_count": null,
            "_view_module_version": "1.5.0",
            "box_style": "",
            "layout": "IPY_MODEL_d77bd00f67894cf0abdd9b1146b95513",
            "_model_module": "@jupyter-widgets/controls",
            "children": [
              "IPY_MODEL_354135e32f19406ea1f868c69ea71218",
              "IPY_MODEL_22ae49692b9d4b19abb40ec048dadd7a"
            ]
          }
        },
        "d77bd00f67894cf0abdd9b1146b95513": {
          "model_module": "@jupyter-widgets/base",
          "model_name": "LayoutModel",
          "state": {
            "_view_name": "LayoutView",
            "grid_template_rows": null,
            "right": null,
            "justify_content": null,
            "_view_module": "@jupyter-widgets/base",
            "overflow": null,
            "_model_module_version": "1.2.0",
            "_view_count": null,
            "flex_flow": null,
            "width": null,
            "min_width": null,
            "border": null,
            "align_items": null,
            "bottom": null,
            "_model_module": "@jupyter-widgets/base",
            "top": null,
            "grid_column": null,
            "overflow_y": null,
            "overflow_x": null,
            "grid_auto_flow": null,
            "grid_area": null,
            "grid_template_columns": null,
            "flex": null,
            "_model_name": "LayoutModel",
            "justify_items": null,
            "grid_row": null,
            "max_height": null,
            "align_content": null,
            "visibility": null,
            "align_self": null,
            "height": null,
            "min_height": null,
            "padding": null,
            "grid_auto_rows": null,
            "grid_gap": null,
            "max_width": null,
            "order": null,
            "_view_module_version": "1.2.0",
            "grid_template_areas": null,
            "object_position": null,
            "object_fit": null,
            "grid_auto_columns": null,
            "margin": null,
            "display": null,
            "left": null
          }
        },
        "354135e32f19406ea1f868c69ea71218": {
          "model_module": "@jupyter-widgets/controls",
          "model_name": "IntProgressModel",
          "state": {
            "_view_name": "ProgressView",
            "style": "IPY_MODEL_e8e8b46ec7a4405b820097fcdb477d80",
            "_dom_classes": [],
            "description": "",
            "_model_name": "IntProgressModel",
            "bar_style": "success",
            "max": 115,
            "_view_module": "@jupyter-widgets/controls",
            "_model_module_version": "1.5.0",
            "value": 115,
            "_view_count": null,
            "_view_module_version": "1.5.0",
            "orientation": "horizontal",
            "min": 0,
            "description_tooltip": null,
            "_model_module": "@jupyter-widgets/controls",
            "layout": "IPY_MODEL_58ed229b996c4fadaf1461c539446b62"
          }
        },
        "22ae49692b9d4b19abb40ec048dadd7a": {
          "model_module": "@jupyter-widgets/controls",
          "model_name": "HTMLModel",
          "state": {
            "_view_name": "HTMLView",
            "style": "IPY_MODEL_13ab2129323149919ef6c4b8b4e3e1bc",
            "_dom_classes": [],
            "description": "",
            "_model_name": "HTMLModel",
            "placeholder": "​",
            "_view_module": "@jupyter-widgets/controls",
            "_model_module_version": "1.5.0",
            "value": "100% 115/115 [08:06&lt;00:00,  4.23s/it]",
            "_view_count": null,
            "_view_module_version": "1.5.0",
            "description_tooltip": null,
            "_model_module": "@jupyter-widgets/controls",
            "layout": "IPY_MODEL_6fee80885b0b4b219c1ef0a207708db8"
          }
        },
        "e8e8b46ec7a4405b820097fcdb477d80": {
          "model_module": "@jupyter-widgets/controls",
          "model_name": "ProgressStyleModel",
          "state": {
            "_view_name": "StyleView",
            "_model_name": "ProgressStyleModel",
            "description_width": "",
            "_view_module": "@jupyter-widgets/base",
            "_model_module_version": "1.5.0",
            "_view_count": null,
            "_view_module_version": "1.2.0",
            "bar_color": null,
            "_model_module": "@jupyter-widgets/controls"
          }
        },
        "58ed229b996c4fadaf1461c539446b62": {
          "model_module": "@jupyter-widgets/base",
          "model_name": "LayoutModel",
          "state": {
            "_view_name": "LayoutView",
            "grid_template_rows": null,
            "right": null,
            "justify_content": null,
            "_view_module": "@jupyter-widgets/base",
            "overflow": null,
            "_model_module_version": "1.2.0",
            "_view_count": null,
            "flex_flow": null,
            "width": null,
            "min_width": null,
            "border": null,
            "align_items": null,
            "bottom": null,
            "_model_module": "@jupyter-widgets/base",
            "top": null,
            "grid_column": null,
            "overflow_y": null,
            "overflow_x": null,
            "grid_auto_flow": null,
            "grid_area": null,
            "grid_template_columns": null,
            "flex": null,
            "_model_name": "LayoutModel",
            "justify_items": null,
            "grid_row": null,
            "max_height": null,
            "align_content": null,
            "visibility": null,
            "align_self": null,
            "height": null,
            "min_height": null,
            "padding": null,
            "grid_auto_rows": null,
            "grid_gap": null,
            "max_width": null,
            "order": null,
            "_view_module_version": "1.2.0",
            "grid_template_areas": null,
            "object_position": null,
            "object_fit": null,
            "grid_auto_columns": null,
            "margin": null,
            "display": null,
            "left": null
          }
        },
        "13ab2129323149919ef6c4b8b4e3e1bc": {
          "model_module": "@jupyter-widgets/controls",
          "model_name": "DescriptionStyleModel",
          "state": {
            "_view_name": "StyleView",
            "_model_name": "DescriptionStyleModel",
            "description_width": "",
            "_view_module": "@jupyter-widgets/base",
            "_model_module_version": "1.5.0",
            "_view_count": null,
            "_view_module_version": "1.2.0",
            "_model_module": "@jupyter-widgets/controls"
          }
        },
        "6fee80885b0b4b219c1ef0a207708db8": {
          "model_module": "@jupyter-widgets/base",
          "model_name": "LayoutModel",
          "state": {
            "_view_name": "LayoutView",
            "grid_template_rows": null,
            "right": null,
            "justify_content": null,
            "_view_module": "@jupyter-widgets/base",
            "overflow": null,
            "_model_module_version": "1.2.0",
            "_view_count": null,
            "flex_flow": null,
            "width": null,
            "min_width": null,
            "border": null,
            "align_items": null,
            "bottom": null,
            "_model_module": "@jupyter-widgets/base",
            "top": null,
            "grid_column": null,
            "overflow_y": null,
            "overflow_x": null,
            "grid_auto_flow": null,
            "grid_area": null,
            "grid_template_columns": null,
            "flex": null,
            "_model_name": "LayoutModel",
            "justify_items": null,
            "grid_row": null,
            "max_height": null,
            "align_content": null,
            "visibility": null,
            "align_self": null,
            "height": null,
            "min_height": null,
            "padding": null,
            "grid_auto_rows": null,
            "grid_gap": null,
            "max_width": null,
            "order": null,
            "_view_module_version": "1.2.0",
            "grid_template_areas": null,
            "object_position": null,
            "object_fit": null,
            "grid_auto_columns": null,
            "margin": null,
            "display": null,
            "left": null
          }
        },
        "f8065703d8e047cf808b69759d94a8ba": {
          "model_module": "@jupyter-widgets/controls",
          "model_name": "HBoxModel",
          "state": {
            "_view_name": "HBoxView",
            "_dom_classes": [],
            "_model_name": "HBoxModel",
            "_view_module": "@jupyter-widgets/controls",
            "_model_module_version": "1.5.0",
            "_view_count": null,
            "_view_module_version": "1.5.0",
            "box_style": "",
            "layout": "IPY_MODEL_265bbcf3a6fa40ceb03bb6992b716ccd",
            "_model_module": "@jupyter-widgets/controls",
            "children": [
              "IPY_MODEL_7c8cf8b305894787bfa775f5907d937b",
              "IPY_MODEL_4fec37df4b054997add4ccef364f5cff"
            ]
          }
        },
        "265bbcf3a6fa40ceb03bb6992b716ccd": {
          "model_module": "@jupyter-widgets/base",
          "model_name": "LayoutModel",
          "state": {
            "_view_name": "LayoutView",
            "grid_template_rows": null,
            "right": null,
            "justify_content": null,
            "_view_module": "@jupyter-widgets/base",
            "overflow": null,
            "_model_module_version": "1.2.0",
            "_view_count": null,
            "flex_flow": null,
            "width": null,
            "min_width": null,
            "border": null,
            "align_items": null,
            "bottom": null,
            "_model_module": "@jupyter-widgets/base",
            "top": null,
            "grid_column": null,
            "overflow_y": null,
            "overflow_x": null,
            "grid_auto_flow": null,
            "grid_area": null,
            "grid_template_columns": null,
            "flex": null,
            "_model_name": "LayoutModel",
            "justify_items": null,
            "grid_row": null,
            "max_height": null,
            "align_content": null,
            "visibility": null,
            "align_self": null,
            "height": null,
            "min_height": null,
            "padding": null,
            "grid_auto_rows": null,
            "grid_gap": null,
            "max_width": null,
            "order": null,
            "_view_module_version": "1.2.0",
            "grid_template_areas": null,
            "object_position": null,
            "object_fit": null,
            "grid_auto_columns": null,
            "margin": null,
            "display": null,
            "left": null
          }
        },
        "7c8cf8b305894787bfa775f5907d937b": {
          "model_module": "@jupyter-widgets/controls",
          "model_name": "IntProgressModel",
          "state": {
            "_view_name": "ProgressView",
            "style": "IPY_MODEL_5bed72ba4c0c4d139a4a035d80d0c862",
            "_dom_classes": [],
            "description": "",
            "_model_name": "IntProgressModel",
            "bar_style": "success",
            "max": 1469,
            "_view_module": "@jupyter-widgets/controls",
            "_model_module_version": "1.5.0",
            "value": 1469,
            "_view_count": null,
            "_view_module_version": "1.5.0",
            "orientation": "horizontal",
            "min": 0,
            "description_tooltip": null,
            "_model_module": "@jupyter-widgets/controls",
            "layout": "IPY_MODEL_43e78128b7184209bb925f20fc4749df"
          }
        },
        "4fec37df4b054997add4ccef364f5cff": {
          "model_module": "@jupyter-widgets/controls",
          "model_name": "HTMLModel",
          "state": {
            "_view_name": "HTMLView",
            "style": "IPY_MODEL_1c79eceb55014d87af999fef6b83515a",
            "_dom_classes": [],
            "description": "",
            "_model_name": "HTMLModel",
            "placeholder": "​",
            "_view_module": "@jupyter-widgets/controls",
            "_model_module_version": "1.5.0",
            "value": "100% 1469/1469 [09:55&lt;00:00,  3.01it/s]",
            "_view_count": null,
            "_view_module_version": "1.5.0",
            "description_tooltip": null,
            "_model_module": "@jupyter-widgets/controls",
            "layout": "IPY_MODEL_deb977fcdd284c0fb2d4e3aa168223dc"
          }
        },
        "5bed72ba4c0c4d139a4a035d80d0c862": {
          "model_module": "@jupyter-widgets/controls",
          "model_name": "ProgressStyleModel",
          "state": {
            "_view_name": "StyleView",
            "_model_name": "ProgressStyleModel",
            "description_width": "",
            "_view_module": "@jupyter-widgets/base",
            "_model_module_version": "1.5.0",
            "_view_count": null,
            "_view_module_version": "1.2.0",
            "bar_color": null,
            "_model_module": "@jupyter-widgets/controls"
          }
        },
        "43e78128b7184209bb925f20fc4749df": {
          "model_module": "@jupyter-widgets/base",
          "model_name": "LayoutModel",
          "state": {
            "_view_name": "LayoutView",
            "grid_template_rows": null,
            "right": null,
            "justify_content": null,
            "_view_module": "@jupyter-widgets/base",
            "overflow": null,
            "_model_module_version": "1.2.0",
            "_view_count": null,
            "flex_flow": null,
            "width": null,
            "min_width": null,
            "border": null,
            "align_items": null,
            "bottom": null,
            "_model_module": "@jupyter-widgets/base",
            "top": null,
            "grid_column": null,
            "overflow_y": null,
            "overflow_x": null,
            "grid_auto_flow": null,
            "grid_area": null,
            "grid_template_columns": null,
            "flex": null,
            "_model_name": "LayoutModel",
            "justify_items": null,
            "grid_row": null,
            "max_height": null,
            "align_content": null,
            "visibility": null,
            "align_self": null,
            "height": null,
            "min_height": null,
            "padding": null,
            "grid_auto_rows": null,
            "grid_gap": null,
            "max_width": null,
            "order": null,
            "_view_module_version": "1.2.0",
            "grid_template_areas": null,
            "object_position": null,
            "object_fit": null,
            "grid_auto_columns": null,
            "margin": null,
            "display": null,
            "left": null
          }
        },
        "1c79eceb55014d87af999fef6b83515a": {
          "model_module": "@jupyter-widgets/controls",
          "model_name": "DescriptionStyleModel",
          "state": {
            "_view_name": "StyleView",
            "_model_name": "DescriptionStyleModel",
            "description_width": "",
            "_view_module": "@jupyter-widgets/base",
            "_model_module_version": "1.5.0",
            "_view_count": null,
            "_view_module_version": "1.2.0",
            "_model_module": "@jupyter-widgets/controls"
          }
        },
        "deb977fcdd284c0fb2d4e3aa168223dc": {
          "model_module": "@jupyter-widgets/base",
          "model_name": "LayoutModel",
          "state": {
            "_view_name": "LayoutView",
            "grid_template_rows": null,
            "right": null,
            "justify_content": null,
            "_view_module": "@jupyter-widgets/base",
            "overflow": null,
            "_model_module_version": "1.2.0",
            "_view_count": null,
            "flex_flow": null,
            "width": null,
            "min_width": null,
            "border": null,
            "align_items": null,
            "bottom": null,
            "_model_module": "@jupyter-widgets/base",
            "top": null,
            "grid_column": null,
            "overflow_y": null,
            "overflow_x": null,
            "grid_auto_flow": null,
            "grid_area": null,
            "grid_template_columns": null,
            "flex": null,
            "_model_name": "LayoutModel",
            "justify_items": null,
            "grid_row": null,
            "max_height": null,
            "align_content": null,
            "visibility": null,
            "align_self": null,
            "height": null,
            "min_height": null,
            "padding": null,
            "grid_auto_rows": null,
            "grid_gap": null,
            "max_width": null,
            "order": null,
            "_view_module_version": "1.2.0",
            "grid_template_areas": null,
            "object_position": null,
            "object_fit": null,
            "grid_auto_columns": null,
            "margin": null,
            "display": null,
            "left": null
          }
        }
      }
    }
  },
  "cells": [
    {
      "cell_type": "markdown",
      "metadata": {
        "id": "view-in-github",
        "colab_type": "text"
      },
      "source": [
        "<a href=\"https://colab.research.google.com/github/mridul-eecs/skin-cancer-classification/blob/master/SkinCancerClassification.ipynb\" target=\"_parent\"><img src=\"https://colab.research.google.com/assets/colab-badge.svg\" alt=\"Open In Colab\"/></a>"
      ]
    },
    {
      "cell_type": "markdown",
      "metadata": {
        "colab_type": "text",
        "id": "oKYipkoq46X5"
      },
      "source": [
        "# Bussiness Problem\n"
      ]
    },
    {
      "cell_type": "markdown",
      "metadata": {
        "colab_type": "text",
        "id": "_thz7RQI46Y5"
      },
      "source": [
        "### Description\n",
        "\n",
        "Problem Statement: The project solves skin cancer classificaion by looking at the images. The skin cancer will be classified into 7 classes as follows.\n",
        "\n",
        "1. Bowen's disease (akiec),\n",
        "2. basal cell carcinoma (bcc),\n",
        "3. benign keratosis-like lesions (solar lentigines / seborrheic keratoses and lichen-planus like keratoses, bkl), \n",
        "4. dermatofibroma (df), \n",
        "5. melanoma (mel), \n",
        "6. melanocytic nevi (nv) and \n",
        "7. vascular lesions (angiomas, angiokeratomas, pyogenic granulomas and hemorrhage, vasc).\n",
        "\n",
        "Data Source: https://www.kaggle.com/kmader/skin-cancer-mnist-ham10000/version/2\n",
        "\n",
        "Algorithmic objectives and constraints:\n",
        "\n",
        "1. Low latency not required\n",
        "2. Interpretability is required\n",
        "3. Errors are very costly\n",
        "4. Probability of a data-point belonging to each class is needed\n",
        "\n",
        "Performance Metrics:\n",
        "\n",
        "1. Multi class log loss\n",
        "2. Accuracy\n",
        "3. Multi class Confusion matrix"
      ]
    },
    {
      "cell_type": "code",
      "metadata": {
        "colab_type": "code",
        "outputId": "4a0ccd1d-8394-4270-ef09-1a540715efc7",
        "id": "18Lia65ijm3D",
        "colab": {
          "base_uri": "https://localhost:8080/",
          "height": 125
        }
      },
      "source": [
        "from google.colab import drive\n",
        "drive.mount('/content/drive')"
      ],
      "execution_count": 0,
      "outputs": [
        {
          "output_type": "stream",
          "text": [
            "Go to this URL in a browser: https://accounts.google.com/o/oauth2/auth?client_id=947318989803-6bn6qk8qdgf4n4g3pfee6491hc0brc4i.apps.googleusercontent.com&redirect_uri=urn%3aietf%3awg%3aoauth%3a2.0%3aoob&response_type=code&scope=email%20https%3a%2f%2fwww.googleapis.com%2fauth%2fdocs.test%20https%3a%2f%2fwww.googleapis.com%2fauth%2fdrive%20https%3a%2f%2fwww.googleapis.com%2fauth%2fdrive.photos.readonly%20https%3a%2f%2fwww.googleapis.com%2fauth%2fpeopleapi.readonly\n",
            "\n",
            "Enter your authorization code:\n",
            "··········\n",
            "Mounted at /content/drive\n"
          ],
          "name": "stdout"
        }
      ]
    },
    {
      "cell_type": "code",
      "metadata": {
        "id": "BMg8z9GJXyFE",
        "colab_type": "code",
        "outputId": "d9e02fca-1f42-40fa-958c-b8edd7ffeac0",
        "colab": {
          "base_uri": "https://localhost:8080/",
          "height": 87
        }
      },
      "source": [
        "!mkdir -p ~/.kaggle\n",
        "!cp drive/My\\ Drive/kaggle.json ~/.kaggle/\n",
        "!chmod 600 ~/.kaggle/kaggle.json\n",
        "!ls ~/.kaggle\n",
        "!kaggle datasets download -d kmader/skin-cancer-mnist-ham10000"
      ],
      "execution_count": 0,
      "outputs": [
        {
          "output_type": "stream",
          "text": [
            "kaggle.json\n",
            "Downloading skin-cancer-mnist-ham10000.zip to /content\n",
            "100% 5.20G/5.20G [01:46<00:00, 86.1MB/s]\n",
            "100% 5.20G/5.20G [01:46<00:00, 52.7MB/s]\n"
          ],
          "name": "stdout"
        }
      ]
    },
    {
      "cell_type": "code",
      "metadata": {
        "id": "46DGs4aw-eTt",
        "colab_type": "code",
        "colab": {}
      },
      "source": [
        "!unzip -qq skin-cancer-mnist-ham10000.zip -d data"
      ],
      "execution_count": 0,
      "outputs": []
    },
    {
      "cell_type": "code",
      "metadata": {
        "id": "sum1jROTYmTN",
        "colab_type": "code",
        "colab": {}
      },
      "source": [
        "import os\n",
        "import cv2\n",
        "from PIL import Image\n",
        "import matplotlib.pyplot as plt\n",
        "import numpy as np"
      ],
      "execution_count": 0,
      "outputs": []
    },
    {
      "cell_type": "code",
      "metadata": {
        "id": "vRaNS7Mi_Ajk",
        "colab_type": "code",
        "outputId": "f2b4ba42-4aa6-4b9d-8eb6-28c03a37ba80",
        "colab": {
          "base_uri": "https://localhost:8080/",
          "height": 304
        }
      },
      "source": [
        "contents= os.listdir('data/ham10000_images_part_2/')\n",
        "print(contents[0])\n",
        "img= Image.open(('data/ham10000_images_part_2/' + contents[0]))\n",
        "plt.imshow(img)"
      ],
      "execution_count": 0,
      "outputs": [
        {
          "output_type": "stream",
          "text": [
            "ISIC_0029940.jpg\n"
          ],
          "name": "stdout"
        },
        {
          "output_type": "execute_result",
          "data": {
            "text/plain": [
              "<matplotlib.image.AxesImage at 0x7fd4b5fe0ef0>"
            ]
          },
          "metadata": {
            "tags": []
          },
          "execution_count": 5
        },
        {
          "output_type": "display_data",
          "data": {
            "image/png": "[encoded data removed]",
            "text/plain": [
              "<Figure size 432x288 with 1 Axes>"
            ]
          },
          "metadata": {
            "tags": []
          }
        }
      ]
    },
    {
      "cell_type": "code",
      "metadata": {
        "id": "m42Q543mAcj2",
        "colab_type": "code",
        "outputId": "4bfdc806-5283-48d3-b811-68dddaf6d3fe",
        "colab": {
          "base_uri": "https://localhost:8080/",
          "height": 107
        }
      },
      "source": [
        "import pandas as pd\n",
        "df= pd.read_csv('data/HAM10000_metadata.csv')\n",
        "df.head(2)"
      ],
      "execution_count": 0,
      "outputs": [
        {
          "output_type": "execute_result",
          "data": {
            "text/html": [
              "<div>\n",
              "<style scoped>\n",
              "    .dataframe tbody tr th:only-of-type {\n",
              "        vertical-align: middle;\n",
              "    }\n",
              "\n",
              "    .dataframe tbody tr th {\n",
              "        vertical-align: top;\n",
              "    }\n",
              "\n",
              "    .dataframe thead th {\n",
              "        text-align: right;\n",
              "    }\n",
              "</style>\n",
              "<table border=\"1\" class=\"dataframe\">\n",
              "  <thead>\n",
              "    <tr style=\"text-align: right;\">\n",
              "      <th></th>\n",
              "      <th>lesion_id</th>\n",
              "      <th>image_id</th>\n",
              "      <th>dx</th>\n",
              "      <th>dx_type</th>\n",
              "      <th>age</th>\n",
              "      <th>sex</th>\n",
              "      <th>localization</th>\n",
              "    </tr>\n",
              "  </thead>\n",
              "  <tbody>\n",
              "    <tr>\n",
              "      <th>0</th>\n",
              "      <td>HAM_0000118</td>\n",
              "      <td>ISIC_0027419</td>\n",
              "      <td>bkl</td>\n",
              "      <td>histo</td>\n",
              "      <td>80.0</td>\n",
              "      <td>male</td>\n",
              "      <td>scalp</td>\n",
              "    </tr>\n",
              "    <tr>\n",
              "      <th>1</th>\n",
              "      <td>HAM_0000118</td>\n",
              "      <td>ISIC_0025030</td>\n",
              "      <td>bkl</td>\n",
              "      <td>histo</td>\n",
              "      <td>80.0</td>\n",
              "      <td>male</td>\n",
              "      <td>scalp</td>\n",
              "    </tr>\n",
              "  </tbody>\n",
              "</table>\n",
              "</div>"
            ],
            "text/plain": [
              "     lesion_id      image_id   dx dx_type   age   sex localization\n",
              "0  HAM_0000118  ISIC_0027419  bkl   histo  80.0  male        scalp\n",
              "1  HAM_0000118  ISIC_0025030  bkl   histo  80.0  male        scalp"
            ]
          },
          "metadata": {
            "tags": []
          },
          "execution_count": 6
        }
      ]
    },
    {
      "cell_type": "code",
      "metadata": {
        "id": "PkRHa3fGFzbP",
        "colab_type": "code",
        "outputId": "f59611e5-d097-4b44-ebd6-ad03de2f6ec0",
        "colab": {
          "base_uri": "https://localhost:8080/",
          "height": 158
        }
      },
      "source": [
        "# matching images with their classes\n",
        "# number of classes\n",
        "# stands for the following\n",
        "print(df['dx'].unique())\n",
        "print(\"Bowen's disease (akiec),\\nbasal cell carcinoma (bcc),\\n\\\n",
        "benign keratosis-like lesions (solar lentigines / seborrheic keratoses and lichen-planus like keratoses, bkl), \\n\\\n",
        "dermatofibroma (df), \\nmelanoma (mel), \\nmelanocytic nevi (nv) and \\n\\\n",
        "vascular lesions (angiomas, angiokeratomas, pyogenic granulomas and hemorrhage, vasc).\")"
      ],
      "execution_count": 0,
      "outputs": [
        {
          "output_type": "stream",
          "text": [
            "['bkl' 'nv' 'df' 'mel' 'vasc' 'bcc' 'akiec']\n",
            "Bowen's disease (akiec),\n",
            "basal cell carcinoma (bcc),\n",
            "benign keratosis-like lesions (solar lentigines / seborrheic keratoses and lichen-planus like keratoses, bkl), \n",
            "dermatofibroma (df), \n",
            "melanoma (mel), \n",
            "melanocytic nevi (nv) and \n",
            "vascular lesions (angiomas, angiokeratomas, pyogenic granulomas and hemorrhage, vasc).\n"
          ],
          "name": "stdout"
        }
      ]
    },
    {
      "cell_type": "code",
      "metadata": {
        "id": "BDJQUvj4JUte",
        "colab_type": "code",
        "outputId": "f197852c-ea58-483c-87b3-19c1b09e9c25",
        "colab": {
          "base_uri": "https://localhost:8080/",
          "height": 298
        }
      },
      "source": [
        "# converting dataset into pytorch Dataset datastructure\n",
        "from torchvision.transforms import transforms, ToTensor, Normalize\n",
        "from torch.utils.data import DataLoader, Dataset\n",
        "import matplotlib.pyplot as plt\n",
        "from scipy import ndimage\n",
        "import torch\n",
        "\n",
        "class skinMNIST(Dataset):\n",
        "  def __init__(self, dataframe, transforms= None):\n",
        "    super().__init__()\n",
        "    self.df= dataframe\n",
        "    self.transform= transforms\n",
        "\n",
        "  def __len__(self):\n",
        "    return(self.df.shape[0])\n",
        "\n",
        "  def labels(self):\n",
        "    labels= self.df['dx'].unique()\n",
        "    labels= sorted(labels)\n",
        "    return \n",
        "    \n",
        "  def description(self):\n",
        "      return self.df['dx'].value_counts()\n",
        "\n",
        "  def __getitem__(self, idx):\n",
        "    labels= dict(zip(['akiec', 'bcc', 'bkl', 'df', 'mel', 'nv', 'vasc'], range(7)))\n",
        "    row = self.df.iloc[idx]\n",
        "    image = row['image_id'] \n",
        "    # label_one_hot= np.zeros(7).astype(int)\n",
        "    # label_one_hot[labels[row['dx']]] = 1\n",
        "    try:\n",
        "      image= Image.open(('data/data/ham10000_images_part_2/' + image + '.jpg'))\n",
        "    except:\n",
        "      image= Image.open(('data/data/ham10000_images_part_1/' + image + '.jpg'))\n",
        "\n",
        "    if self.transform:\n",
        "      image= self.transform(image)\n",
        "    label =int(labels[row['dx']])\n",
        "    return image, torch.tensor(label)\n",
        "\n",
        "  def visulizeitem(self, idx):\n",
        "    row = self.df.iloc[idx]\n",
        "    image = row['image_id']\n",
        "    label = row['dx'] \n",
        "    try:\n",
        "      image= Image.open(('data/data/ham10000_images_part_2/' + image + '.jpg'))\n",
        "    except:\n",
        "      image= Image.open(('data/data/ham10000_images_part_1/' + image + '.jpg'))\n",
        "\n",
        "    print(np.shape(image))\n",
        "    fig= plt.figure()\n",
        "    plt.title('Label: {}'.format(label))\n",
        "    plt.imshow(image)\n",
        "    \n",
        "\n",
        "tf= transforms.Compose([ToTensor(), Normalize(mean=[0.485, 0.456, 0.406], std=[0.229, 0.224, 0.225])])\n",
        "ds= skinMNIST(df, tf)\n",
        "ds.visulizeitem(9045)"
      ],
      "execution_count": 0,
      "outputs": [
        {
          "output_type": "stream",
          "text": [
            "(450, 600, 3)\n"
          ],
          "name": "stdout"
        },
        {
          "output_type": "display_data",
          "data": {
            "image/png": "[encoded data removed]",
            "text/plain": [
              "<Figure size 432x288 with 1 Axes>"
            ]
          },
          "metadata": {
            "tags": []
          }
        }
      ]
    },
    {
      "cell_type": "code",
      "metadata": {
        "id": "Mr_aOD_TPILT",
        "colab_type": "code",
        "outputId": "a0bb9360-27d6-4296-c250-52c58b2c392c",
        "colab": {
          "base_uri": "https://localhost:8080/",
          "height": 427
        }
      },
      "source": [
        "# Distribution of data\n",
        "desc= ds.description()\n",
        "print(desc)\n",
        "desc= dict(desc)\n",
        "plt.bar(desc.keys(), desc.values())"
      ],
      "execution_count": 0,
      "outputs": [
        {
          "output_type": "stream",
          "text": [
            "nv       6705\n",
            "mel      1113\n",
            "bkl      1099\n",
            "bcc       514\n",
            "akiec     327\n",
            "vasc      142\n",
            "df        115\n",
            "Name: dx, dtype: int64\n"
          ],
          "name": "stdout"
        },
        {
          "output_type": "execute_result",
          "data": {
            "text/plain": [
              "<BarContainer object of 7 artists>"
            ]
          },
          "metadata": {
            "tags": []
          },
          "execution_count": 9
        },
        {
          "output_type": "display_data",
          "data": {
            "image/png": "[encoded data removed]",
            "text/plain": [
              "<Figure size 432x288 with 1 Axes>"
            ]
          },
          "metadata": {
            "tags": []
          }
        }
      ]
    },
    {
      "cell_type": "code",
      "metadata": {
        "id": "_7tXqsnFPQ0Q",
        "colab_type": "code",
        "outputId": "8d68565d-ef8f-455a-e1be-2892822ecb96",
        "colab": {
          "base_uri": "https://localhost:8080/",
          "height": 860,
          "referenced_widgets": [
            "0f3d0d8c3ee547fab17c744a3da891be",
            "5fb793564788463eb9a9765b48fd934c",
            "9db72734ae1b418d824988b81b8c1120",
            "7cbc179f43e94b729e41d730c313b593",
            "079be2510e2b468e8ca595fbd759665b",
            "efb43040e08a4e14985d84d31c3fd401",
            "4fef7f5b6b3f4443b4fa25e493e0a0c6",
            "1e25cd3e88e24a949a2c95307266d1a8",
            "d9956050abbf464dad4880d11d21f200",
            "a22c958799b94f648af372743c429562",
            "564614f7ceca494b91b3ddb1252b11de",
            "a7f8ae4cff2d46309b4fde7e17ff4af7",
            "4022654cc91e455b9bd044d1efc0f3a3",
            "7956ac11f27b4d2eb6f6309dcf120b9f",
            "51f94b144b2a4d739b7a5eee66b82133",
            "3129d7bfbda1487189338ac063be8697",
            "97b7fadaf8d842be9035c890f4a6312f",
            "3ab8e34fe4f24d3ebef77cd416babac2",
            "63953516fb2442dea41f9f66c208d343",
            "db51228570ff475b9993a492f339f48c",
            "6131a0282adc43a2b232642ad0608e2f",
            "6636534f12f54e1b865dc31bbcfc9dab",
            "c9413dcac2914f86989de7fa79a36edd",
            "eb138d68d35548a0ad5a5961cd855db7",
            "5f638bbf47b1476b8fa6573d0835fecc",
            "bfdaca429c3443fb96dee3df436e7681",
            "1f074d4adc51459d8aae6873afa93582",
            "2459f06493164607afc6a630c2a23c30",
            "a5fdcc54458246ddb896a5ed2e980591",
            "471f9c94b887409eaf8f071c4be74d2a",
            "89afe66b25754c2b8477648d99b6566a",
            "87a3cc7293db43cab49b556b7de5d30a",
            "b9276389ed73472eb52ff2caf0c03d92",
            "a8f0a55efca54d708ca1e1db097ba899",
            "d0f223efbe5d4209bc715d7c910273a3",
            "cc202a029a3f4e93948b8863f56effbe",
            "653e851bcae24caf99578cd625f5a531",
            "3f1030c875c845e4ad95ec177e1b0767",
            "e8d1eb8072434707a77f6c41a4bf89e1",
            "050f39b2e89e4516ac1e7ff67d660161",
            "bd3c2646466b4d11ab6b7d5e64778e36",
            "d77bd00f67894cf0abdd9b1146b95513",
            "354135e32f19406ea1f868c69ea71218",
            "22ae49692b9d4b19abb40ec048dadd7a",
            "e8e8b46ec7a4405b820097fcdb477d80",
            "58ed229b996c4fadaf1461c539446b62",
            "13ab2129323149919ef6c4b8b4e3e1bc",
            "6fee80885b0b4b219c1ef0a207708db8"
          ]
        }
      },
      "source": [
        "# dataset seems to be highly imbalanced\n",
        "# performing data balancing technique\n",
        "# There are several techniques like undersampling, oversampling, partial augmentation, class weight balancing\n",
        "# We are going for the custom partial augmentation here.\n",
        "from keras.preprocessing.image import ImageDataGenerator\n",
        "from keras.preprocessing.image import img_to_array, load_img\n",
        "from tqdm import tqdm_notebook as tqdm\n",
        "\n",
        "gen= ImageDataGenerator(rotation_range=10, width_shift_range=0.1, height_shift_range=0.1, \n",
        "                        shear_range=0.15, zoom_range= 0.1, channel_shift_range= 10, horizontal_flip= True)\n",
        "\n",
        "for key in desc.keys():\n",
        "  print(key, desc[key])\n",
        "  ratio= int(desc['nv']/ desc[key])\n",
        "  print('ratio to nv: ', ratio)\n",
        "  print('We need around', ratio, ' augmentation per image to change ratio to 1')\n",
        "  all_images= df[df['dx'] == key]['image_id'].values\n",
        "  if(key == 'nv'):\n",
        "    continue\n",
        "  printonce= True\n",
        "  # iterate over all images augment them, save them and insert them in our metadata frame\n",
        "  for image_ in tqdm(all_images):\n",
        "    if(len(df[df['dx'] == key]) > len(df[df['dx'] == 'nv'])):\n",
        "      if printonce:\n",
        "        print(key, 'datapoints = ', len(df[df['dx'] == key]), 'reached above nv skipping more augmentations..')\n",
        "        printonce= False\n",
        "      continue\n",
        "    try:\n",
        "      basedir= 'data/ham10000_images_part_1/'\n",
        "      image_path=  basedir + image_ + '.jpg'\n",
        "      image= load_img(image_path)\n",
        "    except:\n",
        "      basedir= 'data/ham10000_images_part_2/'\n",
        "      image_path= basedir + image_ + '.jpg'\n",
        "      image= load_img(image_path)\n",
        "\n",
        "    image= np.expand_dims(img_to_array(image), axis= 0)\n",
        "    generated= gen.flow(image)\n",
        "    row= df[df['image_id'] == image_]\n",
        "    dict_for_df= {\n",
        "        'lesion_id':row.lesion_id.values[0], 'image_id':row.image_id.values[0], \n",
        "        'dx':row.dx.values[0], 'dx_type':row.dx_type.values[0] ,\n",
        "        'age':row.age.values[0], 'sex':row.sex.values[0], 'localization':row.localization.values[0] \n",
        "    }\n",
        "    for i in range(int(ratio)):\n",
        "      aug_image= next(generated).astype(np.uint8)\n",
        "      # save this image with an underscore\n",
        "      # add this to metadata dataframe\n",
        "      image_name= dict_for_df['image_id'] + '_' + str(i)\n",
        "      dict_for_df['image_id'] = image_name\n",
        "      df = df.append(dict_for_df, ignore_index=True)\n",
        "      plt.imsave(basedir + image_name + '.jpg', aug_image[0])\n"
      ],
      "execution_count": 0,
      "outputs": [
        {
          "output_type": "stream",
          "text": [
            "Using TensorFlow backend.\n"
          ],
          "name": "stderr"
        },
        {
          "output_type": "display_data",
          "data": {
            "text/html": [
              "<p style=\"color: red;\">\n",
              "The default version of TensorFlow in Colab will soon switch to TensorFlow 2.x.<br>\n",
              "We recommend you <a href=\"https://www.tensorflow.org/guide/migrate\" target=\"_blank\">upgrade</a> now \n",
              "or ensure your notebook will continue to use TensorFlow 1.x via the <code>%tensorflow_version 1.x</code> magic:\n",
              "<a href=\"https://colab.research.google.com/notebooks/tensorflow_version.ipynb\" target=\"_blank\">more info</a>.</p>\n"
            ],
            "text/plain": [
              "<IPython.core.display.HTML object>"
            ]
          },
          "metadata": {
            "tags": []
          }
        },
        {
          "output_type": "stream",
          "text": [
            "nv 6705\n",
            "ratio to nv:  1\n",
            "We need around 1  augmentation per image to change ratio to 1\n",
            "mel 1113\n",
            "ratio to nv:  6\n",
            "We need around 6  augmentation per image to change ratio to 1\n"
          ],
          "name": "stdout"
        },
        {
          "output_type": "display_data",
          "data": {
            "application/vnd.jupyter.widget-view+json": {
              "model_id": "0f3d0d8c3ee547fab17c744a3da891be",
              "version_minor": 0,
              "version_major": 2
            },
            "text/plain": [
              "HBox(children=(IntProgress(value=0, max=1113), HTML(value='')))"
            ]
          },
          "metadata": {
            "tags": []
          }
        },
        {
          "output_type": "stream",
          "text": [
            "mel datapoints =  6711 reached above nv skipping more augmentations..\n",
            "\n",
            "bkl 1099\n",
            "ratio to nv:  6\n",
            "We need around 6  augmentation per image to change ratio to 1\n"
          ],
          "name": "stdout"
        },
        {
          "output_type": "display_data",
          "data": {
            "application/vnd.jupyter.widget-view+json": {
              "model_id": "d9956050abbf464dad4880d11d21f200",
              "version_minor": 0,
              "version_major": 2
            },
            "text/plain": [
              "HBox(children=(IntProgress(value=0, max=1099), HTML(value='')))"
            ]
          },
          "metadata": {
            "tags": []
          }
        },
        {
          "output_type": "stream",
          "text": [
            "bkl datapoints =  6709 reached above nv skipping more augmentations..\n",
            "\n",
            "bcc 514\n",
            "ratio to nv:  13\n",
            "We need around 13  augmentation per image to change ratio to 1\n"
          ],
          "name": "stdout"
        },
        {
          "output_type": "display_data",
          "data": {
            "application/vnd.jupyter.widget-view+json": {
              "model_id": "97b7fadaf8d842be9035c890f4a6312f",
              "version_minor": 0,
              "version_major": 2
            },
            "text/plain": [
              "HBox(children=(IntProgress(value=0, max=514), HTML(value='')))"
            ]
          },
          "metadata": {
            "tags": []
          }
        },
        {
          "output_type": "stream",
          "text": [
            "bcc datapoints =  6715 reached above nv skipping more augmentations..\n",
            "\n",
            "akiec 327\n",
            "ratio to nv:  20\n",
            "We need around 20  augmentation per image to change ratio to 1\n"
          ],
          "name": "stdout"
        },
        {
          "output_type": "display_data",
          "data": {
            "application/vnd.jupyter.widget-view+json": {
              "model_id": "5f638bbf47b1476b8fa6573d0835fecc",
              "version_minor": 0,
              "version_major": 2
            },
            "text/plain": [
              "HBox(children=(IntProgress(value=0, max=327), HTML(value='')))"
            ]
          },
          "metadata": {
            "tags": []
          }
        },
        {
          "output_type": "stream",
          "text": [
            "akiec datapoints =  6707 reached above nv skipping more augmentations..\n",
            "\n",
            "vasc 142\n",
            "ratio to nv:  47\n",
            "We need around 47  augmentation per image to change ratio to 1\n"
          ],
          "name": "stdout"
        },
        {
          "output_type": "display_data",
          "data": {
            "application/vnd.jupyter.widget-view+json": {
              "model_id": "b9276389ed73472eb52ff2caf0c03d92",
              "version_minor": 0,
              "version_major": 2
            },
            "text/plain": [
              "HBox(children=(IntProgress(value=0, max=142), HTML(value='')))"
            ]
          },
          "metadata": {
            "tags": []
          }
        },
        {
          "output_type": "stream",
          "text": [
            "vasc datapoints =  6722 reached above nv skipping more augmentations..\n",
            "\n",
            "df 115\n",
            "ratio to nv:  58\n",
            "We need around 58  augmentation per image to change ratio to 1\n"
          ],
          "name": "stdout"
        },
        {
          "output_type": "display_data",
          "data": {
            "application/vnd.jupyter.widget-view+json": {
              "model_id": "bd3c2646466b4d11ab6b7d5e64778e36",
              "version_minor": 0,
              "version_major": 2
            },
            "text/plain": [
              "HBox(children=(IntProgress(value=0, max=115), HTML(value='')))"
            ]
          },
          "metadata": {
            "tags": []
          }
        },
        {
          "output_type": "stream",
          "text": [
            "df datapoints =  6727 reached above nv skipping more augmentations..\n",
            "\n"
          ],
          "name": "stdout"
        }
      ]
    },
    {
      "cell_type": "code",
      "metadata": {
        "id": "k2gMwf__lRXG",
        "colab_type": "code",
        "outputId": "50dd2168-b03b-4b38-eacc-94651dd69855",
        "colab": {
          "base_uri": "https://localhost:8080/",
          "height": 408
        }
      },
      "source": [
        "ds2= skinMNIST(df, tf)\n",
        "desc= ds2.description()\n",
        "print(desc)\n",
        "desc= dict(desc)\n",
        "plt.bar(desc.keys(), desc.values())\n",
        "df.to_csv('drive/My Drive/skincancerdata/dataframe.csv')"
      ],
      "execution_count": 0,
      "outputs": [
        {
          "output_type": "stream",
          "text": [
            "df       6727\n",
            "vasc     6722\n",
            "bcc      6715\n",
            "mel      6711\n",
            "bkl      6709\n",
            "akiec    6707\n",
            "nv       6705\n",
            "Name: dx, dtype: int64\n"
          ],
          "name": "stdout"
        },
        {
          "output_type": "display_data",
          "data": {
            "image/png": "[encoded data removed]",
            "text/plain": [
              "<Figure size 432x288 with 1 Axes>"
            ]
          },
          "metadata": {
            "tags": []
          }
        }
      ]
    },
    {
      "cell_type": "code",
      "metadata": {
        "id": "_yQTLu-AJUcg",
        "colab_type": "code",
        "colab": {}
      },
      "source": [
        "# Now this looks like somewhat balanced dataset, lets proceed with the  train test split"
      ],
      "execution_count": 0,
      "outputs": []
    },
    {
      "cell_type": "code",
      "metadata": {
        "id": "sDgxnmISnMV0",
        "colab_type": "code",
        "outputId": "964157c7-0003-46d3-81bd-1cb780832ab8",
        "colab": {
          "base_uri": "https://localhost:8080/",
          "height": 34
        }
      },
      "source": [
        "# 80% Train 20% Test Spilt\n",
        "train_size = int(0.8 * len(ds2))\n",
        "test_size = len(ds2) - train_size\n",
        "trainset, testset= torch.utils.data.random_split(ds2, [train_size, test_size])\n",
        "print(len(trainset), len(testset))"
      ],
      "execution_count": 0,
      "outputs": [
        {
          "output_type": "stream",
          "text": [
            "37596 9400\n"
          ],
          "name": "stdout"
        }
      ]
    },
    {
      "cell_type": "code",
      "metadata": {
        "id": "n6HwxkLdqAU0",
        "colab_type": "code",
        "colab": {}
      },
      "source": [
        "!zip -r -qq drive/My\\ Drive/skincancerdata/ham10000_images_part_1.zip data/ham10000_images_part_1\n",
        "!zip -r -qq drive/My\\ Drive/skincancerdata/ham10000_images_part_2.zip data/ham10000_images_part_2"
      ],
      "execution_count": 0,
      "outputs": []
    },
    {
      "cell_type": "code",
      "metadata": {
        "id": "lPeiuCLQqAQD",
        "colab_type": "code",
        "colab": {}
      },
      "source": [
        "!unzip -qq drive/My\\ Drive/skincancerdata/ham10000_images_part_1.zip -d data\n",
        "!unzip -qq drive/My\\ Drive/skincancerdata/ham10000_images_part_2.zip -d data"
      ],
      "execution_count": 0,
      "outputs": []
    },
    {
      "cell_type": "code",
      "metadata": {
        "id": "RLVpOqHfqALt",
        "colab_type": "code",
        "colab": {}
      },
      "source": [
        "import pandas as pd\n",
        "df= pd.read_csv('drive/My Drive/skincancerdata/dataframe.csv')"
      ],
      "execution_count": 0,
      "outputs": []
    },
    {
      "cell_type": "code",
      "metadata": {
        "id": "StfMYrSjqACh",
        "colab_type": "code",
        "colab": {}
      },
      "source": [
        ""
      ],
      "execution_count": 0,
      "outputs": []
    },
    {
      "cell_type": "code",
      "metadata": {
        "id": "jkWE8SYIJrwU",
        "colab_type": "code",
        "outputId": "2bc1f68d-d639-4127-d992-0e3ce5d33bbc",
        "colab": {
          "base_uri": "https://localhost:8080/",
          "height": 1000
        }
      },
      "source": [
        "from torchvision import models\n",
        "import torch.nn as nn\n",
        "\n",
        "net = models.resnet18(pretrained=True)\n",
        "\n",
        "net.fc = nn.Sequential(\n",
        "                      nn.Linear(512, 256), \n",
        "                      nn.ReLU(), \n",
        "                      nn.Dropout(0.4),\n",
        "                      nn.Linear(256, 7),                   \n",
        "                      nn.LogSoftmax(dim=1)\n",
        "                      )\n",
        "\n",
        "net = net.cuda()\n",
        "net"
      ],
      "execution_count": 0,
      "outputs": [
        {
          "output_type": "stream",
          "text": [
            "Downloading: \"https://download.pytorch.org/models/resnet18-5c106cde.pth\" to /root/.cache/torch/checkpoints/resnet18-5c106cde.pth\n",
            "100%|██████████| 44.7M/44.7M [00:00<00:00, 281MB/s]\n"
          ],
          "name": "stderr"
        },
        {
          "output_type": "execute_result",
          "data": {
            "text/plain": [
              "ResNet(\n",
              "  (conv1): Conv2d(3, 64, kernel_size=(7, 7), stride=(2, 2), padding=(3, 3), bias=False)\n",
              "  (bn1): BatchNorm2d(64, eps=1e-05, momentum=0.1, affine=True, track_running_stats=True)\n",
              "  (relu): ReLU(inplace=True)\n",
              "  (maxpool): MaxPool2d(kernel_size=3, stride=2, padding=1, dilation=1, ceil_mode=False)\n",
              "  (layer1): Sequential(\n",
              "    (0): BasicBlock(\n",
              "      (conv1): Conv2d(64, 64, kernel_size=(3, 3), stride=(1, 1), padding=(1, 1), bias=False)\n",
              "      (bn1): BatchNorm2d(64, eps=1e-05, momentum=0.1, affine=True, track_running_stats=True)\n",
              "      (relu): ReLU(inplace=True)\n",
              "      (conv2): Conv2d(64, 64, kernel_size=(3, 3), stride=(1, 1), padding=(1, 1), bias=False)\n",
              "      (bn2): BatchNorm2d(64, eps=1e-05, momentum=0.1, affine=True, track_running_stats=True)\n",
              "    )\n",
              "    (1): BasicBlock(\n",
              "      (conv1): Conv2d(64, 64, kernel_size=(3, 3), stride=(1, 1), padding=(1, 1), bias=False)\n",
              "      (bn1): BatchNorm2d(64, eps=1e-05, momentum=0.1, affine=True, track_running_stats=True)\n",
              "      (relu): ReLU(inplace=True)\n",
              "      (conv2): Conv2d(64, 64, kernel_size=(3, 3), stride=(1, 1), padding=(1, 1), bias=False)\n",
              "      (bn2): BatchNorm2d(64, eps=1e-05, momentum=0.1, affine=True, track_running_stats=True)\n",
              "    )\n",
              "  )\n",
              "  (layer2): Sequential(\n",
              "    (0): BasicBlock(\n",
              "      (conv1): Conv2d(64, 128, kernel_size=(3, 3), stride=(2, 2), padding=(1, 1), bias=False)\n",
              "      (bn1): BatchNorm2d(128, eps=1e-05, momentum=0.1, affine=True, track_running_stats=True)\n",
              "      (relu): ReLU(inplace=True)\n",
              "      (conv2): Conv2d(128, 128, kernel_size=(3, 3), stride=(1, 1), padding=(1, 1), bias=False)\n",
              "      (bn2): BatchNorm2d(128, eps=1e-05, momentum=0.1, affine=True, track_running_stats=True)\n",
              "      (downsample): Sequential(\n",
              "        (0): Conv2d(64, 128, kernel_size=(1, 1), stride=(2, 2), bias=False)\n",
              "        (1): BatchNorm2d(128, eps=1e-05, momentum=0.1, affine=True, track_running_stats=True)\n",
              "      )\n",
              "    )\n",
              "    (1): BasicBlock(\n",
              "      (conv1): Conv2d(128, 128, kernel_size=(3, 3), stride=(1, 1), padding=(1, 1), bias=False)\n",
              "      (bn1): BatchNorm2d(128, eps=1e-05, momentum=0.1, affine=True, track_running_stats=True)\n",
              "      (relu): ReLU(inplace=True)\n",
              "      (conv2): Conv2d(128, 128, kernel_size=(3, 3), stride=(1, 1), padding=(1, 1), bias=False)\n",
              "      (bn2): BatchNorm2d(128, eps=1e-05, momentum=0.1, affine=True, track_running_stats=True)\n",
              "    )\n",
              "  )\n",
              "  (layer3): Sequential(\n",
              "    (0): BasicBlock(\n",
              "      (conv1): Conv2d(128, 256, kernel_size=(3, 3), stride=(2, 2), padding=(1, 1), bias=False)\n",
              "      (bn1): BatchNorm2d(256, eps=1e-05, momentum=0.1, affine=True, track_running_stats=True)\n",
              "      (relu): ReLU(inplace=True)\n",
              "      (conv2): Conv2d(256, 256, kernel_size=(3, 3), stride=(1, 1), padding=(1, 1), bias=False)\n",
              "      (bn2): BatchNorm2d(256, eps=1e-05, momentum=0.1, affine=True, track_running_stats=True)\n",
              "      (downsample): Sequential(\n",
              "        (0): Conv2d(128, 256, kernel_size=(1, 1), stride=(2, 2), bias=False)\n",
              "        (1): BatchNorm2d(256, eps=1e-05, momentum=0.1, affine=True, track_running_stats=True)\n",
              "      )\n",
              "    )\n",
              "    (1): BasicBlock(\n",
              "      (conv1): Conv2d(256, 256, kernel_size=(3, 3), stride=(1, 1), padding=(1, 1), bias=False)\n",
              "      (bn1): BatchNorm2d(256, eps=1e-05, momentum=0.1, affine=True, track_running_stats=True)\n",
              "      (relu): ReLU(inplace=True)\n",
              "      (conv2): Conv2d(256, 256, kernel_size=(3, 3), stride=(1, 1), padding=(1, 1), bias=False)\n",
              "      (bn2): BatchNorm2d(256, eps=1e-05, momentum=0.1, affine=True, track_running_stats=True)\n",
              "    )\n",
              "  )\n",
              "  (layer4): Sequential(\n",
              "    (0): BasicBlock(\n",
              "      (conv1): Conv2d(256, 512, kernel_size=(3, 3), stride=(2, 2), padding=(1, 1), bias=False)\n",
              "      (bn1): BatchNorm2d(512, eps=1e-05, momentum=0.1, affine=True, track_running_stats=True)\n",
              "      (relu): ReLU(inplace=True)\n",
              "      (conv2): Conv2d(512, 512, kernel_size=(3, 3), stride=(1, 1), padding=(1, 1), bias=False)\n",
              "      (bn2): BatchNorm2d(512, eps=1e-05, momentum=0.1, affine=True, track_running_stats=True)\n",
              "      (downsample): Sequential(\n",
              "        (0): Conv2d(256, 512, kernel_size=(1, 1), stride=(2, 2), bias=False)\n",
              "        (1): BatchNorm2d(512, eps=1e-05, momentum=0.1, affine=True, track_running_stats=True)\n",
              "      )\n",
              "    )\n",
              "    (1): BasicBlock(\n",
              "      (conv1): Conv2d(512, 512, kernel_size=(3, 3), stride=(1, 1), padding=(1, 1), bias=False)\n",
              "      (bn1): BatchNorm2d(512, eps=1e-05, momentum=0.1, affine=True, track_running_stats=True)\n",
              "      (relu): ReLU(inplace=True)\n",
              "      (conv2): Conv2d(512, 512, kernel_size=(3, 3), stride=(1, 1), padding=(1, 1), bias=False)\n",
              "      (bn2): BatchNorm2d(512, eps=1e-05, momentum=0.1, affine=True, track_running_stats=True)\n",
              "    )\n",
              "  )\n",
              "  (avgpool): AdaptiveAvgPool2d(output_size=(1, 1))\n",
              "  (fc): Sequential(\n",
              "    (0): Linear(in_features=512, out_features=256, bias=True)\n",
              "    (1): ReLU()\n",
              "    (2): Dropout(p=0.4, inplace=False)\n",
              "    (3): Linear(in_features=256, out_features=7, bias=True)\n",
              "    (4): LogSoftmax()\n",
              "  )\n",
              ")"
            ]
          },
          "metadata": {
            "tags": []
          },
          "execution_count": 15
        }
      ]
    },
    {
      "cell_type": "code",
      "metadata": {
        "id": "Z-K9TLCSvAUD",
        "colab_type": "code",
        "outputId": "5446202c-dd84-476f-dbfe-055dc6eba7f2",
        "colab": {
          "base_uri": "https://localhost:8080/",
          "height": 621
        }
      },
      "source": [
        "train_loader = DataLoader(trainset, batch_size= 32, shuffle= True)\n",
        "test_loader = DataLoader(testset, batch_size= 32, shuffle= True)\n",
        "data, label= next(iter(train_loader))\n",
        "# print(label)\n",
        "op= net(data.cuda())\n",
        "print(op)\n",
        "print(np.shape(op))\n",
        "# print(data)"
      ],
      "execution_count": 0,
      "outputs": [
        {
          "output_type": "stream",
          "text": [
            "tensor([[-2.0110, -1.7853, -1.8645, -2.0156, -1.9466, -2.2923, -1.7935],\n",
            "        [-2.4512, -1.7186, -2.0289, -1.8216, -1.8372, -2.1755, -1.7812],\n",
            "        [-1.8377, -2.0776, -2.1348, -1.7345, -2.3630, -1.6919, -1.9482],\n",
            "        [-1.7732, -1.8327, -2.0860, -1.9750, -1.6885, -2.2661, -2.1305],\n",
            "        [-1.7538, -2.0157, -2.1178, -1.7321, -1.9591, -2.0557, -2.0600],\n",
            "        [-1.9943, -2.2218, -1.9015, -1.5485, -1.9304, -1.8833, -2.3394],\n",
            "        [-2.1817, -2.0187, -1.9507, -1.8222, -2.0062, -1.9108, -1.7836],\n",
            "        [-2.4929, -1.8031, -2.0191, -1.5950, -1.6632, -2.2360, -2.1166],\n",
            "        [-2.1206, -1.9752, -2.1066, -1.8138, -1.8630, -1.7423, -2.0691],\n",
            "        [-1.9400, -2.3800, -1.8332, -1.7370, -1.9302, -1.7641, -2.1952],\n",
            "        [-1.8002, -2.1053, -2.2203, -2.0617, -1.6045, -2.1184, -1.8584],\n",
            "        [-2.4433, -2.0035, -2.2716, -1.5271, -1.8791, -1.9698, -1.7973],\n",
            "        [-2.3346, -2.0381, -1.8353, -1.9023, -1.7607, -1.8147, -2.0458],\n",
            "        [-2.3811, -1.9247, -2.2719, -1.5018, -2.0346, -1.8015, -1.9662],\n",
            "        [-2.1436, -2.0540, -2.2451, -1.4494, -1.7042, -2.1124, -2.1979],\n",
            "        [-1.9218, -2.1475, -1.8798, -1.7507, -2.1162, -1.8840, -1.9795],\n",
            "        [-2.3599, -1.9414, -1.7933, -1.6862, -1.7608, -2.2155, -2.0446],\n",
            "        [-2.4324, -2.2385, -1.9111, -1.5403, -1.7888, -2.0812, -1.8880],\n",
            "        [-2.3563, -2.3183, -1.9801, -1.6529, -1.9520, -1.6589, -1.9316],\n",
            "        [-1.9029, -1.9952, -2.2188, -1.6083, -2.0698, -2.0995, -1.8504],\n",
            "        [-2.4252, -2.1963, -1.4748, -1.6672, -1.7864, -2.5196, -2.0048],\n",
            "        [-2.0518, -2.1066, -2.0806, -1.7562, -1.8986, -1.9667, -1.8165],\n",
            "        [-2.1234, -1.9213, -2.1948, -1.6985, -2.1486, -1.7706, -1.8789],\n",
            "        [-1.9823, -2.4466, -1.9474, -1.8046, -1.6712, -1.8913, -2.0436],\n",
            "        [-2.1309, -1.7652, -2.2418, -2.0338, -1.6027, -2.0891, -1.9114],\n",
            "        [-2.0502, -1.9575, -2.0900, -1.9707, -1.8703, -1.7366, -1.9889],\n",
            "        [-2.3251, -2.2011, -2.1748, -1.3604, -1.8987, -1.9313, -2.0663],\n",
            "        [-2.2249, -2.2243, -1.8605, -1.5554, -1.6604, -2.3300, -2.0425],\n",
            "        [-1.8209, -2.2245, -1.9124, -1.8581, -1.9254, -1.9360, -1.9936],\n",
            "        [-2.0759, -2.1527, -1.5439, -1.7587, -1.8997, -2.2092, -2.1789],\n",
            "        [-1.8581, -2.2228, -2.0305, -1.8136, -1.6214, -1.9989, -2.2230],\n",
            "        [-2.0673, -2.2635, -1.9706, -1.6728, -1.7452, -1.9806, -2.0418]],\n",
            "       device='cuda:0', grad_fn=<LogSoftmaxBackward>)\n",
            "torch.Size([32, 7])\n"
          ],
          "name": "stdout"
        }
      ]
    },
    {
      "cell_type": "code",
      "metadata": {
        "id": "1NnUC42Ij4G8",
        "colab_type": "code",
        "outputId": "eccd82bc-4e16-4a64-a3b9-2ae59763e508",
        "colab": {
          "base_uri": "https://localhost:8080/",
          "height": 676
        }
      },
      "source": [
        "from torch.utils.data import DataLoader\n",
        "import torch.optim as optim\n",
        "\n",
        "criterion= nn.CrossEntropyLoss()\n",
        "\n",
        "val_losses= []\n",
        "def validation():\n",
        "  vloss= 0.0\n",
        "  print('validating..')\n",
        "  with torch.no_grad():\n",
        "    net.eval()\n",
        "    total_count, true_count, i= 0, 0, 0\n",
        "    for test_data, test_label in (test_loader):\n",
        "      i+=1\n",
        "      output= net(test_data.cuda()) \n",
        "      vloss+= criterion(output, test_label.cuda())\n",
        "      avg_val_loss= vloss/i\n",
        "      for op, test in zip(output, test_label.cuda()):\n",
        "        total_count+= 1\n",
        "        if(torch.argmax(op) == test):\n",
        "          true_count+= 1\n",
        "    correct= (true_count * 100)/ total_count\n",
        "    val_losses.append(avg_val_loss)\n",
        "    return avg_val_loss, correct\n",
        "\n",
        "\n",
        "\n",
        "\n",
        "# Training starts here  \n",
        "\n",
        "optimizer = optim.Adam(net.parameters(), lr= 0.0001, weight_decay=1e-5)\n",
        "patience = 16\n",
        "train_losses= []\n",
        "val_losses= []\n",
        "patience= 3\n",
        "for epoch in range(1, 20):\n",
        "  print('training..')\n",
        "  net.train()\n",
        "  totalloss= 0\n",
        "  i= 0\n",
        "  for train_data, train_label in (train_loader):\n",
        "    optimizer.zero_grad()\n",
        "    output= net(train_data.cuda())\n",
        "    loss= criterion(output, train_label.cuda())\n",
        "    totalloss+= loss\n",
        "    i+=1\n",
        "    avgloss= totalloss/i\n",
        "    loss.backward()\n",
        "    optimizer.step()\n",
        "  train_losses.append(avgloss)  \n",
        "  valloss, acc= validation()\n",
        "  print('training loss in epoch {} is {}, validation loss is {} correctly classified= {} %'.format(epoch, avgloss, valloss, acc))\n",
        "  try:\n",
        "    if(val_losses[-1] >= val_losses[-2]):\n",
        "      print('Early stopping... saving checkpoint..')\n",
        "      # early_stopping needs the validation loss to check if it has decresed, \n",
        "      # and if it has, it will make a checkpoint of the current model\n",
        "      torch.save(net.state_dict(), 'checkpoint_{}_{}.pt'.format(epoch, acc))\n",
        "      patience-=1\n",
        "      if patience == 0:\n",
        "        break\n",
        "  except:\n",
        "    pass\n"
      ],
      "execution_count": 0,
      "outputs": [
        {
          "output_type": "stream",
          "text": [
            "training..\n",
            "validating..\n",
            "training loss in epoch 1 is 0.07898491621017456, validation loss is 0.13209940493106842 correctly classified= 95.86170212765957 %\n",
            "training..\n",
            "validating..\n",
            "training loss in epoch 2 is 0.055795878171920776, validation loss is 0.08103486895561218 correctly classified= 97.13829787234043 %\n",
            "training..\n",
            "validating..\n",
            "training loss in epoch 3 is 0.04809686169028282, validation loss is 0.07846726477146149 correctly classified= 97.27659574468085 %\n",
            "training..\n",
            "validating..\n",
            "training loss in epoch 4 is 0.04189615324139595, validation loss is 0.06905442476272583 correctly classified= 97.70212765957447 %\n",
            "training..\n",
            "validating..\n",
            "training loss in epoch 5 is 0.03484661132097244, validation loss is 0.16723449528217316 correctly classified= 95.02127659574468 %\n",
            "Early stopping... saving checkpoint..\n",
            "training..\n",
            "validating..\n",
            "training loss in epoch 6 is 0.03438245505094528, validation loss is 0.09963449835777283 correctly classified= 96.87234042553192 %\n",
            "training..\n",
            "validating..\n",
            "training loss in epoch 7 is 0.027950948104262352, validation loss is 0.05209708586335182 correctly classified= 98.43617021276596 %\n",
            "training..\n",
            "validating..\n",
            "training loss in epoch 8 is 0.02972359210252762, validation loss is 0.09442084282636642 correctly classified= 97.26595744680851 %\n",
            "Early stopping... saving checkpoint..\n",
            "training..\n",
            "validating..\n",
            "training loss in epoch 9 is 0.026712343096733093, validation loss is 0.08979807049036026 correctly classified= 97.24468085106383 %\n",
            "training..\n",
            "validating..\n",
            "training loss in epoch 10 is 0.020970890298485756, validation loss is 0.06366560608148575 correctly classified= 98.25531914893617 %\n",
            "training..\n",
            "validating..\n",
            "training loss in epoch 11 is 0.024417927488684654, validation loss is 0.06598348170518875 correctly classified= 97.95744680851064 %\n",
            "Early stopping... saving checkpoint..\n"
          ],
          "name": "stdout"
        }
      ]
    },
    {
      "cell_type": "code",
      "metadata": {
        "id": "o9dkQ6R0MiJ0",
        "colab_type": "code",
        "colab": {}
      },
      "source": [
        "!cp checkpoint_11_97.95744680851064.pt drive/My\\ Drive/skincancerdata/"
      ],
      "execution_count": 0,
      "outputs": []
    },
    {
      "cell_type": "code",
      "metadata": {
        "id": "L0GbKMbSM1T5",
        "colab_type": "code",
        "outputId": "5ea2bf17-cb80-4cc3-f793-2b7516d430e6",
        "colab": {
          "base_uri": "https://localhost:8080/",
          "height": 87
        }
      },
      "source": [
        "with torch.no_grad():\n",
        "  net.eval()\n",
        "  data, label= next(iter(test_loader))\n",
        "  op= net(data.cuda())[0]\n",
        "  print(op)# \n",
        "  print(torch.argmax(op))\n",
        "  print(label[0])\n"
      ],
      "execution_count": 0,
      "outputs": [
        {
          "output_type": "stream",
          "text": [
            "tensor([-1.7772e+01, -1.7203e+01, -1.5430e+01, -1.7615e+01, -3.8147e-06,\n",
            "        -1.2622e+01, -1.9066e+01], device='cuda:0')\n",
            "tensor(4, device='cuda:0')\n",
            "tensor(4)\n"
          ],
          "name": "stdout"
        }
      ]
    },
    {
      "cell_type": "code",
      "metadata": {
        "id": "Z9JTzM1PoBjf",
        "colab_type": "code",
        "outputId": "57cef299-e596-446e-d434-51028d79a1ef",
        "colab": {
          "base_uri": "https://localhost:8080/",
          "height": 70
        }
      },
      "source": [
        "# Evaluating and testing our model on CPU instead of GPU\n",
        "# lets pick a random image from the dataframe and its label\n",
        "from random import randint\n",
        "random_variable= randint(1, 10000)\n",
        "imageid= df.iloc[random_variable].image_id\n",
        "cancertype= df.iloc[random_variable].dx\n",
        "try:\n",
        "  image= Image.open(('data/ham10000_images_part_2/' + imageid + '.jpg'))\n",
        "except:\n",
        "  image= Image.open(('data/ham10000_images_part_1/' + imageid + '.jpg'))\n",
        "\n",
        "# convert jpeg image into 3 dimentional tensor\n",
        "trans =transforms.ToTensor()\n",
        "# convert image into 4 dimentional tensor required to feed into the network\n",
        "image= trans(image).unsqueeze(0)\n",
        "inversedict= dict(zip(range(7), ['akiec', 'bcc', 'bkl', 'df', 'mel', 'nv', 'vasc']))\n",
        "with torch.no_grad():\n",
        "  net.eval().cpu()\n",
        "  op= net(image)\n",
        "  op= op.argmax().item()\n",
        "  print('image_name:', imageid)\n",
        "  print('real:', cancertype)\n",
        "  print('predicted:', inversedict[op])\n"
      ],
      "execution_count": 0,
      "outputs": [
        {
          "output_type": "stream",
          "text": [
            "image_name: ISIC_0027821\n",
            "real: nv\n",
            "predicted: nv\n"
          ],
          "name": "stdout"
        }
      ]
    },
    {
      "cell_type": "code",
      "metadata": {
        "id": "-5pc7kpFgMCb",
        "colab_type": "code",
        "outputId": "f75fec36-c3ee-48cd-995c-207fca24d9fd",
        "colab": {
          "base_uri": "https://localhost:8080/",
          "height": 203
        }
      },
      "source": [
        "#plotting the confusion matrix\n",
        "def get_all_preds(model):\n",
        "  # an instance of the dataset\n",
        "  ds= skinMNIST(df, tf)\n",
        "  all_batches= DataLoader(ds, batch_size= 32, shuffle= False)\n",
        "  cfmat= []\n",
        "  with torch.no_grad():\n",
        "    model.eval().cuda()\n",
        "    for batches, labels in tqdm(all_batches):\n",
        "      op= model(batches.cuda())\n",
        "      op= op.argmax(dim=1)\n",
        "      stack= torch.stack((op, labels.cuda()), dim=1)\n",
        "      cfmat+= stack.tolist()\n",
        "          \n",
        "  return cfmat\n",
        "\n",
        "# cf= get_all_preds(net)"
      ],
      "execution_count": 0,
      "outputs": [
        {
          "output_type": "error",
          "ename": "NameError",
          "evalue": "ignored",
          "traceback": [
            "\u001b[0;31m---------------------------------------------------------------------------\u001b[0m",
            "\u001b[0;31mNameError\u001b[0m                                 Traceback (most recent call last)",
            "\u001b[0;32m<ipython-input-16-0915908aac26>\u001b[0m in \u001b[0;36m<module>\u001b[0;34m()\u001b[0m\n\u001b[1;32m     14\u001b[0m   \u001b[0;32mreturn\u001b[0m \u001b[0mcfmat\u001b[0m\u001b[0;34m\u001b[0m\u001b[0;34m\u001b[0m\u001b[0m\n\u001b[1;32m     15\u001b[0m \u001b[0;34m\u001b[0m\u001b[0m\n\u001b[0;32m---> 16\u001b[0;31m \u001b[0mcf\u001b[0m\u001b[0;34m=\u001b[0m \u001b[0mget_all_preds\u001b[0m\u001b[0;34m(\u001b[0m\u001b[0mnet\u001b[0m\u001b[0;34m)\u001b[0m\u001b[0;34m\u001b[0m\u001b[0;34m\u001b[0m\u001b[0m\n\u001b[0m",
            "\u001b[0;31mNameError\u001b[0m: name 'net' is not defined"
          ]
        }
      ]
    },
    {
      "cell_type": "code",
      "metadata": {
        "id": "oju1jfvv602c",
        "colab_type": "code",
        "outputId": "ce16231d-ecdd-4b3c-a159-c82b1c3a447e",
        "colab": {
          "base_uri": "https://localhost:8080/",
          "height": 176
        }
      },
      "source": [
        "import seaborn as sns\n",
        "print(np.shape(cf))\n",
        "cfmat= np.zeros((7,7), dtype= int)\n",
        "for p in cf:\n",
        "    tl, pl = p\n",
        "    cfmat[tl, pl] = cfmat[tl, pl] + 1\n",
        "print('confusion matrix:\\n',cfmat)"
      ],
      "execution_count": 0,
      "outputs": [
        {
          "output_type": "stream",
          "text": [
            "(46996, 2)\n",
            "confusion matrix:\n",
            " [[6688    0    7    0    0    1    0]\n",
            " [  18 6711   11    0    4    4    0]\n",
            " [   1    0 6615    0    5    9    0]\n",
            " [   0    1    0 6726    0    0    0]\n",
            " [   0    0   29    0 6628   34    0]\n",
            " [   0    3   47    1   69 6657    1]\n",
            " [   0    0    0    0    5    0 6721]]\n"
          ],
          "name": "stdout"
        }
      ]
    },
    {
      "cell_type": "code",
      "metadata": {
        "id": "iom2VeaH9cqK",
        "colab_type": "code",
        "outputId": "8a9fe975-2d79-47fc-a20f-1954addec5a0",
        "colab": {
          "base_uri": "https://localhost:8080/",
          "height": 283
        }
      },
      "source": [
        "import seaborn as sns\n",
        "inversedict= dict(zip(range(7), ['akiec', 'bcc', 'bkl', 'df', 'mel', 'nv', 'vasc']))\n",
        "\n",
        "res = sns.heatmap(cfmat, annot=True, fmt='.2f',cmap=plt.cm.BuGn)\n",
        "plt.ylabel('Target')\n",
        "plt.xlabel('Predictions')\n",
        "plt.xticks(range(7), [inversedict[i] for i in range(7)])\n",
        "plt.yticks(range(7), [inversedict[i] for i in range(7)])\n",
        "plt.show()"
      ],
      "execution_count": 0,
      "outputs": [
        {
          "output_type": "display_data",
          "data": {
            "image/png": "[encoded data removed]",
            "text/plain": [
              "<Figure size 432x288 with 2 Axes>"
            ]
          },
          "metadata": {
            "tags": []
          }
        }
      ]
    },
    {
      "cell_type": "code",
      "metadata": {
        "id": "JJS1nFHXdEEK",
        "colab_type": "code",
        "colab": {}
      },
      "source": [
        "# it can be observed that the 'nv' class is misclassifed into mel and bkl classes, so we should be careful with it.\n",
        " "
      ],
      "execution_count": 0,
      "outputs": []
    },
    {
      "cell_type": "code",
      "metadata": {
        "id": "oYrhM9T8_lrZ",
        "colab_type": "code",
        "outputId": "efb6ce75-4e3c-4a0e-8fd4-e5820add2fa8",
        "colab": {
          "base_uri": "https://localhost:8080/",
          "height": 1000
        }
      },
      "source": [
        "# deploy the model\n",
        "# create the net\n",
        "\n",
        "from torchvision import models\n",
        "import torch.nn as nn\n",
        "from tqdm import tqdm_notebook as tqdm\n",
        "\n",
        "net2 = models.resnet18(pretrained=True)\n",
        "\n",
        "net2.fc = nn.Sequential(\n",
        "                      nn.Linear(512, 256), \n",
        "                      nn.ReLU(), \n",
        "                      nn.Dropout(0.4),\n",
        "                      nn.Linear(256, 7),                   \n",
        "                      nn.LogSoftmax(dim=1)\n",
        "                      )\n",
        "\n",
        "net2 = net2.cuda()\n",
        "net2"
      ],
      "execution_count": 0,
      "outputs": [
        {
          "output_type": "execute_result",
          "data": {
            "text/plain": [
              "ResNet(\n",
              "  (conv1): Conv2d(3, 64, kernel_size=(7, 7), stride=(2, 2), padding=(3, 3), bias=False)\n",
              "  (bn1): BatchNorm2d(64, eps=1e-05, momentum=0.1, affine=True, track_running_stats=True)\n",
              "  (relu): ReLU(inplace=True)\n",
              "  (maxpool): MaxPool2d(kernel_size=3, stride=2, padding=1, dilation=1, ceil_mode=False)\n",
              "  (layer1): Sequential(\n",
              "    (0): BasicBlock(\n",
              "      (conv1): Conv2d(64, 64, kernel_size=(3, 3), stride=(1, 1), padding=(1, 1), bias=False)\n",
              "      (bn1): BatchNorm2d(64, eps=1e-05, momentum=0.1, affine=True, track_running_stats=True)\n",
              "      (relu): ReLU(inplace=True)\n",
              "      (conv2): Conv2d(64, 64, kernel_size=(3, 3), stride=(1, 1), padding=(1, 1), bias=False)\n",
              "      (bn2): BatchNorm2d(64, eps=1e-05, momentum=0.1, affine=True, track_running_stats=True)\n",
              "    )\n",
              "    (1): BasicBlock(\n",
              "      (conv1): Conv2d(64, 64, kernel_size=(3, 3), stride=(1, 1), padding=(1, 1), bias=False)\n",
              "      (bn1): BatchNorm2d(64, eps=1e-05, momentum=0.1, affine=True, track_running_stats=True)\n",
              "      (relu): ReLU(inplace=True)\n",
              "      (conv2): Conv2d(64, 64, kernel_size=(3, 3), stride=(1, 1), padding=(1, 1), bias=False)\n",
              "      (bn2): BatchNorm2d(64, eps=1e-05, momentum=0.1, affine=True, track_running_stats=True)\n",
              "    )\n",
              "  )\n",
              "  (layer2): Sequential(\n",
              "    (0): BasicBlock(\n",
              "      (conv1): Conv2d(64, 128, kernel_size=(3, 3), stride=(2, 2), padding=(1, 1), bias=False)\n",
              "      (bn1): BatchNorm2d(128, eps=1e-05, momentum=0.1, affine=True, track_running_stats=True)\n",
              "      (relu): ReLU(inplace=True)\n",
              "      (conv2): Conv2d(128, 128, kernel_size=(3, 3), stride=(1, 1), padding=(1, 1), bias=False)\n",
              "      (bn2): BatchNorm2d(128, eps=1e-05, momentum=0.1, affine=True, track_running_stats=True)\n",
              "      (downsample): Sequential(\n",
              "        (0): Conv2d(64, 128, kernel_size=(1, 1), stride=(2, 2), bias=False)\n",
              "        (1): BatchNorm2d(128, eps=1e-05, momentum=0.1, affine=True, track_running_stats=True)\n",
              "      )\n",
              "    )\n",
              "    (1): BasicBlock(\n",
              "      (conv1): Conv2d(128, 128, kernel_size=(3, 3), stride=(1, 1), padding=(1, 1), bias=False)\n",
              "      (bn1): BatchNorm2d(128, eps=1e-05, momentum=0.1, affine=True, track_running_stats=True)\n",
              "      (relu): ReLU(inplace=True)\n",
              "      (conv2): Conv2d(128, 128, kernel_size=(3, 3), stride=(1, 1), padding=(1, 1), bias=False)\n",
              "      (bn2): BatchNorm2d(128, eps=1e-05, momentum=0.1, affine=True, track_running_stats=True)\n",
              "    )\n",
              "  )\n",
              "  (layer3): Sequential(\n",
              "    (0): BasicBlock(\n",
              "      (conv1): Conv2d(128, 256, kernel_size=(3, 3), stride=(2, 2), padding=(1, 1), bias=False)\n",
              "      (bn1): BatchNorm2d(256, eps=1e-05, momentum=0.1, affine=True, track_running_stats=True)\n",
              "      (relu): ReLU(inplace=True)\n",
              "      (conv2): Conv2d(256, 256, kernel_size=(3, 3), stride=(1, 1), padding=(1, 1), bias=False)\n",
              "      (bn2): BatchNorm2d(256, eps=1e-05, momentum=0.1, affine=True, track_running_stats=True)\n",
              "      (downsample): Sequential(\n",
              "        (0): Conv2d(128, 256, kernel_size=(1, 1), stride=(2, 2), bias=False)\n",
              "        (1): BatchNorm2d(256, eps=1e-05, momentum=0.1, affine=True, track_running_stats=True)\n",
              "      )\n",
              "    )\n",
              "    (1): BasicBlock(\n",
              "      (conv1): Conv2d(256, 256, kernel_size=(3, 3), stride=(1, 1), padding=(1, 1), bias=False)\n",
              "      (bn1): BatchNorm2d(256, eps=1e-05, momentum=0.1, affine=True, track_running_stats=True)\n",
              "      (relu): ReLU(inplace=True)\n",
              "      (conv2): Conv2d(256, 256, kernel_size=(3, 3), stride=(1, 1), padding=(1, 1), bias=False)\n",
              "      (bn2): BatchNorm2d(256, eps=1e-05, momentum=0.1, affine=True, track_running_stats=True)\n",
              "    )\n",
              "  )\n",
              "  (layer4): Sequential(\n",
              "    (0): BasicBlock(\n",
              "      (conv1): Conv2d(256, 512, kernel_size=(3, 3), stride=(2, 2), padding=(1, 1), bias=False)\n",
              "      (bn1): BatchNorm2d(512, eps=1e-05, momentum=0.1, affine=True, track_running_stats=True)\n",
              "      (relu): ReLU(inplace=True)\n",
              "      (conv2): Conv2d(512, 512, kernel_size=(3, 3), stride=(1, 1), padding=(1, 1), bias=False)\n",
              "      (bn2): BatchNorm2d(512, eps=1e-05, momentum=0.1, affine=True, track_running_stats=True)\n",
              "      (downsample): Sequential(\n",
              "        (0): Conv2d(256, 512, kernel_size=(1, 1), stride=(2, 2), bias=False)\n",
              "        (1): BatchNorm2d(512, eps=1e-05, momentum=0.1, affine=True, track_running_stats=True)\n",
              "      )\n",
              "    )\n",
              "    (1): BasicBlock(\n",
              "      (conv1): Conv2d(512, 512, kernel_size=(3, 3), stride=(1, 1), padding=(1, 1), bias=False)\n",
              "      (bn1): BatchNorm2d(512, eps=1e-05, momentum=0.1, affine=True, track_running_stats=True)\n",
              "      (relu): ReLU(inplace=True)\n",
              "      (conv2): Conv2d(512, 512, kernel_size=(3, 3), stride=(1, 1), padding=(1, 1), bias=False)\n",
              "      (bn2): BatchNorm2d(512, eps=1e-05, momentum=0.1, affine=True, track_running_stats=True)\n",
              "    )\n",
              "  )\n",
              "  (avgpool): AdaptiveAvgPool2d(output_size=(1, 1))\n",
              "  (fc): Sequential(\n",
              "    (0): Linear(in_features=512, out_features=256, bias=True)\n",
              "    (1): ReLU()\n",
              "    (2): Dropout(p=0.4, inplace=False)\n",
              "    (3): Linear(in_features=256, out_features=7, bias=True)\n",
              "    (4): LogSoftmax()\n",
              "  )\n",
              ")"
            ]
          },
          "metadata": {
            "tags": []
          },
          "execution_count": 19
        }
      ]
    },
    {
      "cell_type": "code",
      "metadata": {
        "id": "5K_IyDrKFc8s",
        "colab_type": "code",
        "outputId": "5635cf0f-7272-4b63-fb8e-58be36193e06",
        "colab": {
          "base_uri": "https://localhost:8080/",
          "height": 208,
          "referenced_widgets": [
            "f8065703d8e047cf808b69759d94a8ba",
            "265bbcf3a6fa40ceb03bb6992b716ccd",
            "7c8cf8b305894787bfa775f5907d937b",
            "4fec37df4b054997add4ccef364f5cff",
            "5bed72ba4c0c4d139a4a035d80d0c862",
            "43e78128b7184209bb925f20fc4749df",
            "1c79eceb55014d87af999fef6b83515a",
            "deb977fcdd284c0fb2d4e3aa168223dc"
          ]
        }
      },
      "source": [
        "checkpoint = torch.load('drive/My Drive/skincancerdata/checkpoint_11_97.95744680851064.pt')\n",
        "net2.load_state_dict(checkpoint)\n",
        "# testing net2\n",
        "cf2= get_all_preds(net2)\n",
        "cfmat= np.zeros((7,7), dtype= int)\n",
        "for p in cf2:\n",
        "    tl, pl = p\n",
        "    cfmat[tl, pl] = cfmat[tl, pl] + 1\n",
        "print('confusion matrix:\\n',cfmat)\n"
      ],
      "execution_count": 0,
      "outputs": [
        {
          "output_type": "display_data",
          "data": {
            "application/vnd.jupyter.widget-view+json": {
              "model_id": "f8065703d8e047cf808b69759d94a8ba",
              "version_minor": 0,
              "version_major": 2
            },
            "text/plain": [
              "HBox(children=(IntProgress(value=0, max=1469), HTML(value='')))"
            ]
          },
          "metadata": {
            "tags": []
          }
        },
        {
          "output_type": "stream",
          "text": [
            "\n",
            "confusion matrix:\n",
            " [[6688    0    7    0    0    1    0]\n",
            " [  18 6711   11    0    4    4    0]\n",
            " [   1    0 6615    0    5    9    0]\n",
            " [   0    1    0 6726    0    0    0]\n",
            " [   0    0   29    0 6628   34    0]\n",
            " [   0    3   47    1   69 6657    1]\n",
            " [   0    0    0    0    5    0 6721]]\n"
          ],
          "name": "stdout"
        }
      ]
    },
    {
      "cell_type": "code",
      "metadata": {
        "id": "3opo_1tOHvGB",
        "colab_type": "code",
        "outputId": "2c40b013-ea49-45d8-bffb-ba819fa0042c",
        "colab": {
          "base_uri": "https://localhost:8080/",
          "height": 34
        }
      },
      "source": [
        "cfmat[0][5]"
      ],
      "execution_count": 0,
      "outputs": [
        {
          "output_type": "execute_result",
          "data": {
            "text/plain": [
              "1"
            ]
          },
          "metadata": {
            "tags": []
          },
          "execution_count": 23
        }
      ]
    },
    {
      "cell_type": "code",
      "metadata": {
        "id": "rKCiE-czScbb",
        "colab_type": "code",
        "outputId": "db697b49-ed64-426e-c7d1-5ae6c70fbf03",
        "colab": {
          "base_uri": "https://localhost:8080/",
          "height": 286
        }
      },
      "source": [
        "from torchvision import models\n",
        "import torch.nn as nn\n",
        "from PIL import Image\n",
        "from torchvision.transforms import transforms\n",
        "import torch\n",
        "import matplotlib.pyplot as plt\n",
        "\n",
        "\n",
        "net = models.resnet18(pretrained=False)\n",
        "net.fc = nn.Sequential(\n",
        "                      nn.Linear(512, 256), \n",
        "                      nn.ReLU(), \n",
        "                      nn.Dropout(0.4),\n",
        "                      nn.Linear(256, 7),                   \n",
        "                      nn.LogSoftmax(dim=1)\n",
        "                      )\n",
        "IMAGEPATH= 'data/HAM10000_images_part_1/ISIC_0024472.jpg'\n",
        "checkpoint = torch.load('drive/My Drive/skincancerdata/checkpoint_11_97.95744680851064.pt')\n",
        "net.load_state_dict(checkpoint)\n",
        "image= Image.open(IMAGEPATH)\n",
        "trans =transforms.ToTensor()\n",
        "image_tensor= trans(image).unsqueeze(0)\n",
        "inversedict= dict(zip(range(7), ['akiec', 'bcc', 'bkl', 'df', 'mel', 'nv', 'vasc']))\n",
        "with torch.no_grad():\n",
        "  net.eval().cpu()\n",
        "  op= net(image_tensor)\n",
        "  op= op.argmax().item()\n",
        "  plt.imshow(image)\n",
        "  print('predicted:', inversedict[op])"
      ],
      "execution_count": 0,
      "outputs": [
        {
          "output_type": "stream",
          "text": [
            "predicted: nv\n"
          ],
          "name": "stdout"
        },
        {
          "output_type": "display_data",
          "data": {
            "image/png": "[encoded data removed]",
            "text/plain": [
              "<Figure size 432x288 with 1 Axes>"
            ]
          },
          "metadata": {
            "tags": []
          }
        }
      ]
    },
    {
      "cell_type": "code",
      "metadata": {
        "id": "cNclfTcBc8sG",
        "colab_type": "code",
        "colab": {}
      },
      "source": [
        ""
      ],
      "execution_count": 0,
      "outputs": []
    }
  ]
}